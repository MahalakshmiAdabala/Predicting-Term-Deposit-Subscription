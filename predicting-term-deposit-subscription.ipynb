{
 "cells": [
  {
   "cell_type": "markdown",
   "id": "c0539156",
   "metadata": {
    "papermill": {
     "duration": 0.026402,
     "end_time": "2022-07-19T09:51:34.597495",
     "exception": false,
     "start_time": "2022-07-19T09:51:34.571093",
     "status": "completed"
    },
    "tags": []
   },
   "source": [
    "# Project: Bank Marketing Campaigns for Term Deposits \n",
    "\n",
    "## Problem Formulation\n",
    "\n",
    "This data set contains records relevant to a direct marketing campaign of a Portuguese banking institution.Our client is a retail banking institution. Term deposits are a major source of income for a bank. A term deposit is a cash investment held at a financial institution. Your money is invested for an agreed rate of interest over a fixed amount of time, or term. The bank has various outreach plans to sell term deposits to their customers such as email marketing, advertisements, telephonic marketing and digital marketing. Telephonic marketing campaigns still remain one of the most effective way to reach out to people. However, they require huge investment as large call centers are hired to actually execute these campaigns. Hence, it is crucial to identify the customers most likely to convert beforehand so that they can be specifically targeted via call.\n",
    "\n",
    "We are provided with the client data such as age of the client, their job type, their marital status, etc. Along with the client data, you are also provided with the information of the call such as the duration of the call, day and month of the call, etc.\n",
    "\n",
    "This is the classic marketing bank dataset uploaded originally in the UCI Machine Learning Repository.\n",
    "\n",
    "(Sourse of the data : https://archive.ics.uci.edu/ml/datasets/bank+marketing).\n",
    "\n",
    "Number of Instances: 41188 \n",
    "\n",
    "Number of Attributes: 21\n",
    "\n",
    "## Problem Statement\n",
    "\n",
    "Leverage the given data set to build an End-to-End Data Science Project and Predict whether a customer is subscribing the term deposit or not.\n",
    "\n",
    "## Hypothesis Generation\n",
    "\n",
    "This is one of the important stages in any Data Science/Machine Learning pipeline. It involves understanding the problem in detail by brainstorming as many factors as possible which can impact the outcome. It is done by understanding the problem statement thoroughly and before looking at the data.\n",
    "\n",
    "Below are some of the factors which I think can highly affect the people who choose term deposits :\n",
    "\n",
    "- **Age:** Mostly elder people doesn't take risk so they might prefer term deposits over any other.\n",
    "\n",
    "- **Income:** Income of a person increases as he/she gains experience and thus, people with higher age tend to have higher income for the same occupation. Higher income people might interested in investing.\n",
    "\n",
    "- **Occupation:** People working in 'Tech-support', 'Sales' & 'Exec-managerial' will surely have good salary and they might consider investing more than other people.\n",
    "\n",
    "- **Marital Status:** People who are married tend to invest more than unmarried people  \n",
    "\n",
    "\n",
    "## Steps to follow\n",
    "\n",
    "It is a Binary Classification Problem\n",
    "\n",
    "- **General Overview:** Have a General Overview of the data\n",
    "- **EDA:** Perform Exploratory Data Analysis(EDA) to gain more clear insights of the data\n",
    "- **Data Preprocessing:** With the information gained after performing EDA, Preprocess the Data accordingly\n",
    "- **Model Building:** Once the data is properly cleaned and preprocessed, use this data to build a Machine Learning\n",
    "- **Hyperparameter Tuning:** Tune the Hyperparameters of the best performing model\n",
    "- **Model Performance:** Assess the Performance of the Model on the Testing data set\n",
    "- **Save the model:** Save the Best Performing Model\n",
    "- **Predictions:** Make Predictions on the Testing data set\n",
    "\n",
    "### After performing all the steps above, create a Web App and deploy the same on Cloud Platforms\n",
    " "
   ]
  },
  {
   "cell_type": "code",
   "execution_count": 1,
   "id": "9213943f",
   "metadata": {
    "execution": {
     "iopub.execute_input": "2022-07-19T09:51:34.650458Z",
     "iopub.status.busy": "2022-07-19T09:51:34.649767Z",
     "iopub.status.idle": "2022-07-19T09:51:36.247422Z",
     "shell.execute_reply": "2022-07-19T09:51:36.246205Z"
    },
    "papermill": {
     "duration": 1.62735,
     "end_time": "2022-07-19T09:51:36.251217",
     "exception": false,
     "start_time": "2022-07-19T09:51:34.623867",
     "status": "completed"
    },
    "tags": []
   },
   "outputs": [
    {
     "name": "stdout",
     "output_type": "stream",
     "text": [
      "/kaggle/input/bank-marketing-campaigns-dataset/bank-additional-full.csv\n"
     ]
    }
   ],
   "source": [
    "# For performing any kind of Mathematical Operations\n",
    "import numpy as np\n",
    "# For dealing with DataFrames\n",
    "import pandas as pd\n",
    "\n",
    "# For Data Visualization\n",
    "import matplotlib.pyplot as plt\n",
    "# For visualizing the plottings better\n",
    "%matplotlib inline\n",
    "# For Data Visualization\n",
    "import seaborn as sns\n",
    "\n",
    "# Preprocessing modules\n",
    "from sklearn.model_selection import train_test_split, RandomizedSearchCV, cross_val_score\n",
    "from sklearn.preprocessing import OneHotEncoder\n",
    "\n",
    "# Model\n",
    "from sklearn.linear_model import LogisticRegression\n",
    "from sklearn.svm import SVC\n",
    "from sklearn.ensemble import RandomForestClassifier, AdaBoostClassifier\n",
    "# Metrics\n",
    "from sklearn.metrics import plot_confusion_matrix, classification_report, plot_roc_curve\n",
    "\n",
    "# Saving the model\n",
    "import pickle\n",
    "\n",
    "## to ignore waarning\n",
    "import warnings\n",
    "warnings.filterwarnings(\"ignore\")#, category=DeprecationWarning)\n",
    "\n",
    "\n",
    "import os\n",
    "for dirname, _, filenames in os.walk('/kaggle/input'):\n",
    "    for filename in filenames:\n",
    "        print(os.path.join(dirname, filename))"
   ]
  },
  {
   "cell_type": "code",
   "execution_count": 2,
   "id": "9d521994",
   "metadata": {
    "execution": {
     "iopub.execute_input": "2022-07-19T09:51:36.302790Z",
     "iopub.status.busy": "2022-07-19T09:51:36.302410Z",
     "iopub.status.idle": "2022-07-19T09:51:36.565590Z",
     "shell.execute_reply": "2022-07-19T09:51:36.564419Z"
    },
    "papermill": {
     "duration": 0.291149,
     "end_time": "2022-07-19T09:51:36.567959",
     "exception": false,
     "start_time": "2022-07-19T09:51:36.276810",
     "status": "completed"
    },
    "tags": []
   },
   "outputs": [
    {
     "data": {
      "text/html": [
       "<div>\n",
       "<style scoped>\n",
       "    .dataframe tbody tr th:only-of-type {\n",
       "        vertical-align: middle;\n",
       "    }\n",
       "\n",
       "    .dataframe tbody tr th {\n",
       "        vertical-align: top;\n",
       "    }\n",
       "\n",
       "    .dataframe thead th {\n",
       "        text-align: right;\n",
       "    }\n",
       "</style>\n",
       "<table border=\"1\" class=\"dataframe\">\n",
       "  <thead>\n",
       "    <tr style=\"text-align: right;\">\n",
       "      <th></th>\n",
       "      <th>age</th>\n",
       "      <th>job</th>\n",
       "      <th>marital</th>\n",
       "      <th>education</th>\n",
       "      <th>default</th>\n",
       "      <th>housing</th>\n",
       "      <th>loan</th>\n",
       "      <th>contact</th>\n",
       "      <th>month</th>\n",
       "      <th>day_of_week</th>\n",
       "      <th>...</th>\n",
       "      <th>campaign</th>\n",
       "      <th>pdays</th>\n",
       "      <th>previous</th>\n",
       "      <th>poutcome</th>\n",
       "      <th>emp.var.rate</th>\n",
       "      <th>cons.price.idx</th>\n",
       "      <th>cons.conf.idx</th>\n",
       "      <th>euribor3m</th>\n",
       "      <th>nr.employed</th>\n",
       "      <th>y</th>\n",
       "    </tr>\n",
       "  </thead>\n",
       "  <tbody>\n",
       "    <tr>\n",
       "      <th>0</th>\n",
       "      <td>56</td>\n",
       "      <td>housemaid</td>\n",
       "      <td>married</td>\n",
       "      <td>basic.4y</td>\n",
       "      <td>no</td>\n",
       "      <td>no</td>\n",
       "      <td>no</td>\n",
       "      <td>telephone</td>\n",
       "      <td>may</td>\n",
       "      <td>mon</td>\n",
       "      <td>...</td>\n",
       "      <td>1</td>\n",
       "      <td>999</td>\n",
       "      <td>0</td>\n",
       "      <td>nonexistent</td>\n",
       "      <td>1.1</td>\n",
       "      <td>93.994</td>\n",
       "      <td>-36.4</td>\n",
       "      <td>4.857</td>\n",
       "      <td>5191.0</td>\n",
       "      <td>no</td>\n",
       "    </tr>\n",
       "    <tr>\n",
       "      <th>1</th>\n",
       "      <td>57</td>\n",
       "      <td>services</td>\n",
       "      <td>married</td>\n",
       "      <td>high.school</td>\n",
       "      <td>unknown</td>\n",
       "      <td>no</td>\n",
       "      <td>no</td>\n",
       "      <td>telephone</td>\n",
       "      <td>may</td>\n",
       "      <td>mon</td>\n",
       "      <td>...</td>\n",
       "      <td>1</td>\n",
       "      <td>999</td>\n",
       "      <td>0</td>\n",
       "      <td>nonexistent</td>\n",
       "      <td>1.1</td>\n",
       "      <td>93.994</td>\n",
       "      <td>-36.4</td>\n",
       "      <td>4.857</td>\n",
       "      <td>5191.0</td>\n",
       "      <td>no</td>\n",
       "    </tr>\n",
       "    <tr>\n",
       "      <th>2</th>\n",
       "      <td>37</td>\n",
       "      <td>services</td>\n",
       "      <td>married</td>\n",
       "      <td>high.school</td>\n",
       "      <td>no</td>\n",
       "      <td>yes</td>\n",
       "      <td>no</td>\n",
       "      <td>telephone</td>\n",
       "      <td>may</td>\n",
       "      <td>mon</td>\n",
       "      <td>...</td>\n",
       "      <td>1</td>\n",
       "      <td>999</td>\n",
       "      <td>0</td>\n",
       "      <td>nonexistent</td>\n",
       "      <td>1.1</td>\n",
       "      <td>93.994</td>\n",
       "      <td>-36.4</td>\n",
       "      <td>4.857</td>\n",
       "      <td>5191.0</td>\n",
       "      <td>no</td>\n",
       "    </tr>\n",
       "    <tr>\n",
       "      <th>3</th>\n",
       "      <td>40</td>\n",
       "      <td>admin.</td>\n",
       "      <td>married</td>\n",
       "      <td>basic.6y</td>\n",
       "      <td>no</td>\n",
       "      <td>no</td>\n",
       "      <td>no</td>\n",
       "      <td>telephone</td>\n",
       "      <td>may</td>\n",
       "      <td>mon</td>\n",
       "      <td>...</td>\n",
       "      <td>1</td>\n",
       "      <td>999</td>\n",
       "      <td>0</td>\n",
       "      <td>nonexistent</td>\n",
       "      <td>1.1</td>\n",
       "      <td>93.994</td>\n",
       "      <td>-36.4</td>\n",
       "      <td>4.857</td>\n",
       "      <td>5191.0</td>\n",
       "      <td>no</td>\n",
       "    </tr>\n",
       "    <tr>\n",
       "      <th>4</th>\n",
       "      <td>56</td>\n",
       "      <td>services</td>\n",
       "      <td>married</td>\n",
       "      <td>high.school</td>\n",
       "      <td>no</td>\n",
       "      <td>no</td>\n",
       "      <td>yes</td>\n",
       "      <td>telephone</td>\n",
       "      <td>may</td>\n",
       "      <td>mon</td>\n",
       "      <td>...</td>\n",
       "      <td>1</td>\n",
       "      <td>999</td>\n",
       "      <td>0</td>\n",
       "      <td>nonexistent</td>\n",
       "      <td>1.1</td>\n",
       "      <td>93.994</td>\n",
       "      <td>-36.4</td>\n",
       "      <td>4.857</td>\n",
       "      <td>5191.0</td>\n",
       "      <td>no</td>\n",
       "    </tr>\n",
       "  </tbody>\n",
       "</table>\n",
       "<p>5 rows × 21 columns</p>\n",
       "</div>"
      ],
      "text/plain": [
       "   age        job  marital    education  default housing loan    contact  \\\n",
       "0   56  housemaid  married     basic.4y       no      no   no  telephone   \n",
       "1   57   services  married  high.school  unknown      no   no  telephone   \n",
       "2   37   services  married  high.school       no     yes   no  telephone   \n",
       "3   40     admin.  married     basic.6y       no      no   no  telephone   \n",
       "4   56   services  married  high.school       no      no  yes  telephone   \n",
       "\n",
       "  month day_of_week  ...  campaign  pdays  previous     poutcome emp.var.rate  \\\n",
       "0   may         mon  ...         1    999         0  nonexistent          1.1   \n",
       "1   may         mon  ...         1    999         0  nonexistent          1.1   \n",
       "2   may         mon  ...         1    999         0  nonexistent          1.1   \n",
       "3   may         mon  ...         1    999         0  nonexistent          1.1   \n",
       "4   may         mon  ...         1    999         0  nonexistent          1.1   \n",
       "\n",
       "   cons.price.idx  cons.conf.idx  euribor3m  nr.employed   y  \n",
       "0          93.994          -36.4      4.857       5191.0  no  \n",
       "1          93.994          -36.4      4.857       5191.0  no  \n",
       "2          93.994          -36.4      4.857       5191.0  no  \n",
       "3          93.994          -36.4      4.857       5191.0  no  \n",
       "4          93.994          -36.4      4.857       5191.0  no  \n",
       "\n",
       "[5 rows x 21 columns]"
      ]
     },
     "execution_count": 2,
     "metadata": {},
     "output_type": "execute_result"
    }
   ],
   "source": [
    "data = pd.read_csv('../input/bank-marketing-campaigns-dataset/bank-additional-full.csv' ,sep=';')\n",
    "data.head()"
   ]
  },
  {
   "cell_type": "code",
   "execution_count": 3,
   "id": "fb76499f",
   "metadata": {
    "execution": {
     "iopub.execute_input": "2022-07-19T09:51:36.619693Z",
     "iopub.status.busy": "2022-07-19T09:51:36.619285Z",
     "iopub.status.idle": "2022-07-19T09:51:36.647067Z",
     "shell.execute_reply": "2022-07-19T09:51:36.646107Z"
    },
    "papermill": {
     "duration": 0.056038,
     "end_time": "2022-07-19T09:51:36.649057",
     "exception": false,
     "start_time": "2022-07-19T09:51:36.593019",
     "status": "completed"
    },
    "tags": []
   },
   "outputs": [
    {
     "data": {
      "text/html": [
       "<div>\n",
       "<style scoped>\n",
       "    .dataframe tbody tr th:only-of-type {\n",
       "        vertical-align: middle;\n",
       "    }\n",
       "\n",
       "    .dataframe tbody tr th {\n",
       "        vertical-align: top;\n",
       "    }\n",
       "\n",
       "    .dataframe thead th {\n",
       "        text-align: right;\n",
       "    }\n",
       "</style>\n",
       "<table border=\"1\" class=\"dataframe\">\n",
       "  <thead>\n",
       "    <tr style=\"text-align: right;\">\n",
       "      <th></th>\n",
       "      <th>age</th>\n",
       "      <th>job</th>\n",
       "      <th>marital</th>\n",
       "      <th>education</th>\n",
       "      <th>default</th>\n",
       "      <th>housing</th>\n",
       "      <th>loan</th>\n",
       "      <th>contact</th>\n",
       "      <th>month</th>\n",
       "      <th>day_of_week</th>\n",
       "      <th>...</th>\n",
       "      <th>campaign</th>\n",
       "      <th>pdays</th>\n",
       "      <th>previous</th>\n",
       "      <th>poutcome</th>\n",
       "      <th>emp.var.rate</th>\n",
       "      <th>cons.price.idx</th>\n",
       "      <th>cons.conf.idx</th>\n",
       "      <th>euribor3m</th>\n",
       "      <th>nr.employed</th>\n",
       "      <th>y</th>\n",
       "    </tr>\n",
       "  </thead>\n",
       "  <tbody>\n",
       "    <tr>\n",
       "      <th>0</th>\n",
       "      <td>56</td>\n",
       "      <td>housemaid</td>\n",
       "      <td>married</td>\n",
       "      <td>basic.4y</td>\n",
       "      <td>no</td>\n",
       "      <td>no</td>\n",
       "      <td>no</td>\n",
       "      <td>telephone</td>\n",
       "      <td>may</td>\n",
       "      <td>mon</td>\n",
       "      <td>...</td>\n",
       "      <td>1</td>\n",
       "      <td>999</td>\n",
       "      <td>0</td>\n",
       "      <td>nonexistent</td>\n",
       "      <td>1.1</td>\n",
       "      <td>93.994</td>\n",
       "      <td>-36.4</td>\n",
       "      <td>4.857</td>\n",
       "      <td>5191.0</td>\n",
       "      <td>no</td>\n",
       "    </tr>\n",
       "    <tr>\n",
       "      <th>1</th>\n",
       "      <td>57</td>\n",
       "      <td>services</td>\n",
       "      <td>married</td>\n",
       "      <td>high.school</td>\n",
       "      <td>unknown</td>\n",
       "      <td>no</td>\n",
       "      <td>no</td>\n",
       "      <td>telephone</td>\n",
       "      <td>may</td>\n",
       "      <td>mon</td>\n",
       "      <td>...</td>\n",
       "      <td>1</td>\n",
       "      <td>999</td>\n",
       "      <td>0</td>\n",
       "      <td>nonexistent</td>\n",
       "      <td>1.1</td>\n",
       "      <td>93.994</td>\n",
       "      <td>-36.4</td>\n",
       "      <td>4.857</td>\n",
       "      <td>5191.0</td>\n",
       "      <td>no</td>\n",
       "    </tr>\n",
       "    <tr>\n",
       "      <th>2</th>\n",
       "      <td>37</td>\n",
       "      <td>services</td>\n",
       "      <td>married</td>\n",
       "      <td>high.school</td>\n",
       "      <td>no</td>\n",
       "      <td>yes</td>\n",
       "      <td>no</td>\n",
       "      <td>telephone</td>\n",
       "      <td>may</td>\n",
       "      <td>mon</td>\n",
       "      <td>...</td>\n",
       "      <td>1</td>\n",
       "      <td>999</td>\n",
       "      <td>0</td>\n",
       "      <td>nonexistent</td>\n",
       "      <td>1.1</td>\n",
       "      <td>93.994</td>\n",
       "      <td>-36.4</td>\n",
       "      <td>4.857</td>\n",
       "      <td>5191.0</td>\n",
       "      <td>no</td>\n",
       "    </tr>\n",
       "    <tr>\n",
       "      <th>3</th>\n",
       "      <td>40</td>\n",
       "      <td>admin.</td>\n",
       "      <td>married</td>\n",
       "      <td>basic.6y</td>\n",
       "      <td>no</td>\n",
       "      <td>no</td>\n",
       "      <td>no</td>\n",
       "      <td>telephone</td>\n",
       "      <td>may</td>\n",
       "      <td>mon</td>\n",
       "      <td>...</td>\n",
       "      <td>1</td>\n",
       "      <td>999</td>\n",
       "      <td>0</td>\n",
       "      <td>nonexistent</td>\n",
       "      <td>1.1</td>\n",
       "      <td>93.994</td>\n",
       "      <td>-36.4</td>\n",
       "      <td>4.857</td>\n",
       "      <td>5191.0</td>\n",
       "      <td>no</td>\n",
       "    </tr>\n",
       "    <tr>\n",
       "      <th>4</th>\n",
       "      <td>56</td>\n",
       "      <td>services</td>\n",
       "      <td>married</td>\n",
       "      <td>high.school</td>\n",
       "      <td>no</td>\n",
       "      <td>no</td>\n",
       "      <td>yes</td>\n",
       "      <td>telephone</td>\n",
       "      <td>may</td>\n",
       "      <td>mon</td>\n",
       "      <td>...</td>\n",
       "      <td>1</td>\n",
       "      <td>999</td>\n",
       "      <td>0</td>\n",
       "      <td>nonexistent</td>\n",
       "      <td>1.1</td>\n",
       "      <td>93.994</td>\n",
       "      <td>-36.4</td>\n",
       "      <td>4.857</td>\n",
       "      <td>5191.0</td>\n",
       "      <td>no</td>\n",
       "    </tr>\n",
       "  </tbody>\n",
       "</table>\n",
       "<p>5 rows × 21 columns</p>\n",
       "</div>"
      ],
      "text/plain": [
       "   age        job  marital    education  default housing loan    contact  \\\n",
       "0   56  housemaid  married     basic.4y       no      no   no  telephone   \n",
       "1   57   services  married  high.school  unknown      no   no  telephone   \n",
       "2   37   services  married  high.school       no     yes   no  telephone   \n",
       "3   40     admin.  married     basic.6y       no      no   no  telephone   \n",
       "4   56   services  married  high.school       no      no  yes  telephone   \n",
       "\n",
       "  month day_of_week  ...  campaign  pdays  previous     poutcome emp.var.rate  \\\n",
       "0   may         mon  ...         1    999         0  nonexistent          1.1   \n",
       "1   may         mon  ...         1    999         0  nonexistent          1.1   \n",
       "2   may         mon  ...         1    999         0  nonexistent          1.1   \n",
       "3   may         mon  ...         1    999         0  nonexistent          1.1   \n",
       "4   may         mon  ...         1    999         0  nonexistent          1.1   \n",
       "\n",
       "   cons.price.idx  cons.conf.idx  euribor3m  nr.employed   y  \n",
       "0          93.994          -36.4      4.857       5191.0  no  \n",
       "1          93.994          -36.4      4.857       5191.0  no  \n",
       "2          93.994          -36.4      4.857       5191.0  no  \n",
       "3          93.994          -36.4      4.857       5191.0  no  \n",
       "4          93.994          -36.4      4.857       5191.0  no  \n",
       "\n",
       "[5 rows x 21 columns]"
      ]
     },
     "execution_count": 3,
     "metadata": {},
     "output_type": "execute_result"
    }
   ],
   "source": [
    "df = data.copy()\n",
    "\n",
    "df.head()"
   ]
  },
  {
   "cell_type": "markdown",
   "id": "52600b5f",
   "metadata": {
    "papermill": {
     "duration": 0.025502,
     "end_time": "2022-07-19T09:51:36.700171",
     "exception": false,
     "start_time": "2022-07-19T09:51:36.674669",
     "status": "completed"
    },
    "tags": []
   },
   "source": [
    "## 1. Having an Overview of the data set\n",
    "\n",
    "1.1. The search for missings and duplicates\n",
    "\n",
    "1.2. Evaluate statistical correlation between features. Pearson Correlation coefficient."
   ]
  },
  {
   "cell_type": "code",
   "execution_count": 4,
   "id": "3911723d",
   "metadata": {
    "execution": {
     "iopub.execute_input": "2022-07-19T09:51:36.752681Z",
     "iopub.status.busy": "2022-07-19T09:51:36.751830Z",
     "iopub.status.idle": "2022-07-19T09:51:36.825500Z",
     "shell.execute_reply": "2022-07-19T09:51:36.824744Z"
    },
    "papermill": {
     "duration": 0.103349,
     "end_time": "2022-07-19T09:51:36.828669",
     "exception": false,
     "start_time": "2022-07-19T09:51:36.725320",
     "status": "completed"
    },
    "tags": []
   },
   "outputs": [
    {
     "name": "stdout",
     "output_type": "stream",
     "text": [
      "<class 'pandas.core.frame.DataFrame'>\n",
      "RangeIndex: 41188 entries, 0 to 41187\n",
      "Data columns (total 21 columns):\n",
      " #   Column          Non-Null Count  Dtype  \n",
      "---  ------          --------------  -----  \n",
      " 0   age             41188 non-null  int64  \n",
      " 1   job             41188 non-null  object \n",
      " 2   marital         41188 non-null  object \n",
      " 3   education       41188 non-null  object \n",
      " 4   default         41188 non-null  object \n",
      " 5   housing         41188 non-null  object \n",
      " 6   loan            41188 non-null  object \n",
      " 7   contact         41188 non-null  object \n",
      " 8   month           41188 non-null  object \n",
      " 9   day_of_week     41188 non-null  object \n",
      " 10  duration        41188 non-null  int64  \n",
      " 11  campaign        41188 non-null  int64  \n",
      " 12  pdays           41188 non-null  int64  \n",
      " 13  previous        41188 non-null  int64  \n",
      " 14  poutcome        41188 non-null  object \n",
      " 15  emp.var.rate    41188 non-null  float64\n",
      " 16  cons.price.idx  41188 non-null  float64\n",
      " 17  cons.conf.idx   41188 non-null  float64\n",
      " 18  euribor3m       41188 non-null  float64\n",
      " 19  nr.employed     41188 non-null  float64\n",
      " 20  y               41188 non-null  object \n",
      "dtypes: float64(5), int64(5), object(11)\n",
      "memory usage: 6.6+ MB\n"
     ]
    }
   ],
   "source": [
    "df.info()"
   ]
  },
  {
   "cell_type": "markdown",
   "id": "83aea481",
   "metadata": {
    "papermill": {
     "duration": 0.025012,
     "end_time": "2022-07-19T09:51:36.880448",
     "exception": false,
     "start_time": "2022-07-19T09:51:36.855436",
     "status": "completed"
    },
    "tags": []
   },
   "source": [
    "##### Rename Columns\n",
    "\n",
    "Renaming the columns to have the same formatting columns names. Replace the column name that contains '.' with '_'."
   ]
  },
  {
   "cell_type": "code",
   "execution_count": 5,
   "id": "9477a774",
   "metadata": {
    "execution": {
     "iopub.execute_input": "2022-07-19T09:51:36.932723Z",
     "iopub.status.busy": "2022-07-19T09:51:36.932306Z",
     "iopub.status.idle": "2022-07-19T09:51:36.938787Z",
     "shell.execute_reply": "2022-07-19T09:51:36.937840Z"
    },
    "papermill": {
     "duration": 0.035243,
     "end_time": "2022-07-19T09:51:36.940898",
     "exception": false,
     "start_time": "2022-07-19T09:51:36.905655",
     "status": "completed"
    },
    "tags": []
   },
   "outputs": [
    {
     "data": {
      "text/plain": [
       "Index(['age', 'job', 'marital', 'education', 'default', 'housing', 'loan',\n",
       "       'contact', 'month', 'day_of_week', 'duration', 'campaign', 'pdays',\n",
       "       'previous', 'poutcome', 'emp.var.rate', 'cons.price.idx',\n",
       "       'cons.conf.idx', 'euribor3m', 'nr.employed', 'y'],\n",
       "      dtype='object')"
      ]
     },
     "execution_count": 5,
     "metadata": {},
     "output_type": "execute_result"
    }
   ],
   "source": [
    "df.columns"
   ]
  },
  {
   "cell_type": "code",
   "execution_count": 6,
   "id": "1a72f7bd",
   "metadata": {
    "execution": {
     "iopub.execute_input": "2022-07-19T09:51:36.993520Z",
     "iopub.status.busy": "2022-07-19T09:51:36.992765Z",
     "iopub.status.idle": "2022-07-19T09:51:37.001769Z",
     "shell.execute_reply": "2022-07-19T09:51:37.000711Z"
    },
    "papermill": {
     "duration": 0.037525,
     "end_time": "2022-07-19T09:51:37.003934",
     "exception": false,
     "start_time": "2022-07-19T09:51:36.966409",
     "status": "completed"
    },
    "tags": []
   },
   "outputs": [
    {
     "data": {
      "text/plain": [
       "Index(['age', 'job', 'marital', 'education', 'default', 'housing', 'loan',\n",
       "       'contact', 'month', 'day_of_week', 'duration', 'campaign', 'pdays',\n",
       "       'previous', 'poutcome', 'emp_var_rate', 'cons_price_idx',\n",
       "       'cons_conf_idx', 'euribor3m', 'nr_employed', 'y'],\n",
       "      dtype='object')"
      ]
     },
     "execution_count": 6,
     "metadata": {},
     "output_type": "execute_result"
    }
   ],
   "source": [
    "df.columns = df.columns.str.replace('.', '_', regex = False)\n",
    "\n",
    "# columns after rename\n",
    "\n",
    "df.columns"
   ]
  },
  {
   "cell_type": "code",
   "execution_count": 7,
   "id": "6ad6bad9",
   "metadata": {
    "execution": {
     "iopub.execute_input": "2022-07-19T09:51:37.057698Z",
     "iopub.status.busy": "2022-07-19T09:51:37.056920Z",
     "iopub.status.idle": "2022-07-19T09:51:37.071118Z",
     "shell.execute_reply": "2022-07-19T09:51:37.070081Z"
    },
    "papermill": {
     "duration": 0.0432,
     "end_time": "2022-07-19T09:51:37.073200",
     "exception": false,
     "start_time": "2022-07-19T09:51:37.030000",
     "status": "completed"
    },
    "tags": []
   },
   "outputs": [
    {
     "data": {
      "text/plain": [
       "no     36548\n",
       "yes     4640\n",
       "Name: y, dtype: int64"
      ]
     },
     "execution_count": 7,
     "metadata": {},
     "output_type": "execute_result"
    }
   ],
   "source": [
    "# checking whether the data data is balanced or not \n",
    "\n",
    "df['y'].value_counts()\n",
    "\n",
    "# it seems the data is higly imbalanced "
   ]
  },
  {
   "cell_type": "code",
   "execution_count": 8,
   "id": "3196ad04",
   "metadata": {
    "execution": {
     "iopub.execute_input": "2022-07-19T09:51:37.128070Z",
     "iopub.status.busy": "2022-07-19T09:51:37.127166Z",
     "iopub.status.idle": "2022-07-19T09:51:37.369540Z",
     "shell.execute_reply": "2022-07-19T09:51:37.368598Z"
    },
    "papermill": {
     "duration": 0.271926,
     "end_time": "2022-07-19T09:51:37.371857",
     "exception": false,
     "start_time": "2022-07-19T09:51:37.099931",
     "status": "completed"
    },
    "tags": []
   },
   "outputs": [
    {
     "data": {
      "image/png": "[encoded data removed]",
      "text/plain": [
       "<Figure size 432x288 with 1 Axes>"
      ]
     },
     "metadata": {
      "needs_background": "light"
     },
     "output_type": "display_data"
    }
   ],
   "source": [
    "# Visualizing the distribution of the Target variable\n",
    "\n",
    "sns.countplot(df['y'])\n",
    "plt.show()"
   ]
  },
  {
   "cell_type": "code",
   "execution_count": 9,
   "id": "acc19b08",
   "metadata": {
    "execution": {
     "iopub.execute_input": "2022-07-19T09:51:37.427319Z",
     "iopub.status.busy": "2022-07-19T09:51:37.426385Z",
     "iopub.status.idle": "2022-07-19T09:51:37.432246Z",
     "shell.execute_reply": "2022-07-19T09:51:37.431332Z"
    },
    "papermill": {
     "duration": 0.035468,
     "end_time": "2022-07-19T09:51:37.434221",
     "exception": false,
     "start_time": "2022-07-19T09:51:37.398753",
     "status": "completed"
    },
    "tags": []
   },
   "outputs": [
    {
     "data": {
      "text/plain": [
       "(41188, 21)"
      ]
     },
     "execution_count": 9,
     "metadata": {},
     "output_type": "execute_result"
    }
   ],
   "source": [
    "df.shape"
   ]
  },
  {
   "cell_type": "code",
   "execution_count": 10,
   "id": "23cf092e",
   "metadata": {
    "execution": {
     "iopub.execute_input": "2022-07-19T09:51:37.488662Z",
     "iopub.status.busy": "2022-07-19T09:51:37.488077Z",
     "iopub.status.idle": "2022-07-19T09:51:37.493058Z",
     "shell.execute_reply": "2022-07-19T09:51:37.492405Z"
    },
    "papermill": {
     "duration": 0.033991,
     "end_time": "2022-07-19T09:51:37.494862",
     "exception": false,
     "start_time": "2022-07-19T09:51:37.460871",
     "status": "completed"
    },
    "tags": []
   },
   "outputs": [
    {
     "data": {
      "text/plain": [
       "88.73458288821988"
      ]
     },
     "execution_count": 10,
     "metadata": {},
     "output_type": "execute_result"
    }
   ],
   "source": [
    "# People who are not ready to take the deposit \n",
    "\n",
    "100*(36548/41188)"
   ]
  },
  {
   "cell_type": "code",
   "execution_count": 11,
   "id": "200a914d",
   "metadata": {
    "execution": {
     "iopub.execute_input": "2022-07-19T09:51:37.549823Z",
     "iopub.status.busy": "2022-07-19T09:51:37.548991Z",
     "iopub.status.idle": "2022-07-19T09:51:37.554112Z",
     "shell.execute_reply": "2022-07-19T09:51:37.553436Z"
    },
    "papermill": {
     "duration": 0.034283,
     "end_time": "2022-07-19T09:51:37.555856",
     "exception": false,
     "start_time": "2022-07-19T09:51:37.521573",
     "status": "completed"
    },
    "tags": []
   },
   "outputs": [
    {
     "data": {
      "text/plain": [
       "11.265417111780131"
      ]
     },
     "execution_count": 11,
     "metadata": {},
     "output_type": "execute_result"
    }
   ],
   "source": [
    "# People who are ready to take the deposit \n",
    "\n",
    "100*(4640/41188)"
   ]
  },
  {
   "cell_type": "markdown",
   "id": "f395cf96",
   "metadata": {
    "papermill": {
     "duration": 0.025888,
     "end_time": "2022-07-19T09:51:37.608073",
     "exception": false,
     "start_time": "2022-07-19T09:51:37.582185",
     "status": "completed"
    },
    "tags": []
   },
   "source": [
    "##### There is almost a 88% - 12% distribution of the Target values which seems quite imbalanced, so we have to handle the imbalanced data as well."
   ]
  },
  {
   "cell_type": "markdown",
   "id": "7b1c41b8",
   "metadata": {
    "papermill": {
     "duration": 0.027156,
     "end_time": "2022-07-19T09:51:37.661558",
     "exception": false,
     "start_time": "2022-07-19T09:51:37.634402",
     "status": "completed"
    },
    "tags": []
   },
   "source": [
    "### 1.1. Checking the missing values in the data"
   ]
  },
  {
   "cell_type": "code",
   "execution_count": 12,
   "id": "75c46dbf",
   "metadata": {
    "execution": {
     "iopub.execute_input": "2022-07-19T09:51:37.717092Z",
     "iopub.status.busy": "2022-07-19T09:51:37.716468Z",
     "iopub.status.idle": "2022-07-19T09:51:37.772102Z",
     "shell.execute_reply": "2022-07-19T09:51:37.771425Z"
    },
    "papermill": {
     "duration": 0.085974,
     "end_time": "2022-07-19T09:51:37.774103",
     "exception": false,
     "start_time": "2022-07-19T09:51:37.688129",
     "status": "completed"
    },
    "tags": []
   },
   "outputs": [
    {
     "data": {
      "text/plain": [
       "0"
      ]
     },
     "execution_count": 12,
     "metadata": {},
     "output_type": "execute_result"
    }
   ],
   "source": [
    "df.isnull().sum().sum()"
   ]
  },
  {
   "cell_type": "markdown",
   "id": "f96c5204",
   "metadata": {
    "papermill": {
     "duration": 0.027069,
     "end_time": "2022-07-19T09:51:37.827816",
     "exception": false,
     "start_time": "2022-07-19T09:51:37.800747",
     "status": "completed"
    },
    "tags": []
   },
   "source": [
    "Fortunately, there are no missing values. If there were missing values we will have to fill them with the median, mean or mode. I tend to use the median but in this scenario there is no need to fill any missing values. This will definitely make our job easier!"
   ]
  },
  {
   "cell_type": "markdown",
   "id": "46fb1bd1",
   "metadata": {
    "papermill": {
     "duration": 0.02609,
     "end_time": "2022-07-19T09:51:37.880975",
     "exception": false,
     "start_time": "2022-07-19T09:51:37.854885",
     "status": "completed"
    },
    "tags": []
   },
   "source": [
    "### 1.2. Checking for Correlation among the Predictors"
   ]
  },
  {
   "cell_type": "code",
   "execution_count": 13,
   "id": "3be9925e",
   "metadata": {
    "execution": {
     "iopub.execute_input": "2022-07-19T09:51:37.935108Z",
     "iopub.status.busy": "2022-07-19T09:51:37.934456Z",
     "iopub.status.idle": "2022-07-19T09:51:37.950399Z",
     "shell.execute_reply": "2022-07-19T09:51:37.949629Z"
    },
    "papermill": {
     "duration": 0.045465,
     "end_time": "2022-07-19T09:51:37.952579",
     "exception": false,
     "start_time": "2022-07-19T09:51:37.907114",
     "status": "completed"
    },
    "tags": []
   },
   "outputs": [],
   "source": [
    "# Convert target variable into numeric\n",
    "df.y = df.y.map({'no':0, 'yes':1}).astype('uint8')"
   ]
  },
  {
   "cell_type": "code",
   "execution_count": 14,
   "id": "cdc18823",
   "metadata": {
    "execution": {
     "iopub.execute_input": "2022-07-19T09:51:38.007924Z",
     "iopub.status.busy": "2022-07-19T09:51:38.007267Z",
     "iopub.status.idle": "2022-07-19T09:51:38.833817Z",
     "shell.execute_reply": "2022-07-19T09:51:38.833039Z"
    },
    "papermill": {
     "duration": 0.857229,
     "end_time": "2022-07-19T09:51:38.836464",
     "exception": false,
     "start_time": "2022-07-19T09:51:37.979235",
     "status": "completed"
    },
    "tags": []
   },
   "outputs": [
    {
     "data": {
      "image/png": "[encoded data removed]",
      "text/plain": [
       "<Figure size 1440x1080 with 2 Axes>"
      ]
     },
     "metadata": {
      "needs_background": "light"
     },
     "output_type": "display_data"
    }
   ],
   "source": [
    "# Correlation Heatmap\n",
    "\n",
    "corr = df.corr()\n",
    "\n",
    "plt.figure(figsize=(20,15))\n",
    "sns.heatmap(corr, annot=True, cmap='RdYlGn')\n",
    "plt.show()"
   ]
  },
  {
   "cell_type": "markdown",
   "id": "6de20479",
   "metadata": {
    "execution": {
     "iopub.execute_input": "2022-06-18T09:03:33.220962Z",
     "iopub.status.busy": "2022-06-18T09:03:33.220545Z",
     "iopub.status.idle": "2022-06-18T09:03:33.225281Z",
     "shell.execute_reply": "2022-06-18T09:03:33.224343Z",
     "shell.execute_reply.started": "2022-06-18T09:03:33.220926Z"
    },
    "papermill": {
     "duration": 0.028335,
     "end_time": "2022-07-19T09:51:38.893263",
     "exception": false,
     "start_time": "2022-07-19T09:51:38.864928",
     "status": "completed"
    },
    "tags": []
   },
   "source": [
    "#####  From correlation matrix we observed the below\n",
    "\n",
    "1. Most correlated with target feature is call duration. So we need to transform it to reduce the influence\n",
    "\n",
    "2. Number of employees(nr.employed) is highly correlated with employee variation rate and euribor3m and cons.price.idx\n",
    "\n",
    "3. euribor3m (Bank interest rate) is highly correlated with nr.employed and cons.price.idx and employee variation rate\n",
    "\n",
    "4. Consumer price index is highly correlated with nr.employed and bank interest rate(euribor3m) and employee variation rate\n",
    "\n",
    "5. Employee variation rate also correlates with nr.employed and the bank interest rates(euribor3m) and  cons.price.idx\n",
    "\n",
    "6. Higly correlated features (nr.employed, euribor3m, employment rate, consumer price index) may describe clients state from different social-economic angles. Their variance might support model capacity for generalization. after doing some data analysis we need to decide which features to consider."
   ]
  },
  {
   "cell_type": "markdown",
   "id": "7f0d1b0c",
   "metadata": {
    "papermill": {
     "duration": 0.027687,
     "end_time": "2022-07-19T09:51:38.949688",
     "exception": false,
     "start_time": "2022-07-19T09:51:38.922001",
     "status": "completed"
    },
    "tags": []
   },
   "source": [
    "## 2. Data Visualization and Exploratory Data Analysis (EDA)\n",
    "\n",
    "1. Univariate analysis\n",
    "2. Bivariate analysis"
   ]
  },
  {
   "cell_type": "markdown",
   "id": "25a74a00",
   "metadata": {
    "papermill": {
     "duration": 0.027451,
     "end_time": "2022-07-19T09:51:39.004583",
     "exception": false,
     "start_time": "2022-07-19T09:51:38.977132",
     "status": "completed"
    },
    "tags": []
   },
   "source": [
    "### 2.1. Univariate Analysis\n",
    "\n",
    "##### Plotting Bar Graphs in order to visualize to see the distributions of the variables\n",
    "\n",
    "1. Numerical Variables:  age, campaign,duration, pdays,balance,previous, emp_var_rate, cons_price_idx , cons_conf_idx, euribor3m, nr_employed.\n",
    "\n",
    "2. Categorical Variables: job,marital, default, education,housing,loan,contact,poutcome,month,deposit,day_of_week"
   ]
  },
  {
   "cell_type": "code",
   "execution_count": 15,
   "id": "4b8983e6",
   "metadata": {
    "execution": {
     "iopub.execute_input": "2022-07-19T09:51:39.061645Z",
     "iopub.status.busy": "2022-07-19T09:51:39.061082Z",
     "iopub.status.idle": "2022-07-19T09:51:40.668474Z",
     "shell.execute_reply": "2022-07-19T09:51:40.667374Z"
    },
    "papermill": {
     "duration": 1.638684,
     "end_time": "2022-07-19T09:51:40.670762",
     "exception": false,
     "start_time": "2022-07-19T09:51:39.032078",
     "status": "completed"
    },
    "tags": []
   },
   "outputs": [
    {
     "data": {
      "image/png": "[encoded data removed]",
      "text/plain": [
       "<Figure size 1440x1080 with 12 Axes>"
      ]
     },
     "metadata": {
      "needs_background": "light"
     },
     "output_type": "display_data"
    }
   ],
   "source": [
    "# 2.1.1. Numerical variables\n",
    "\n",
    "header = ['age','duration','campaign','pdays','previous','emp_var_rate','cons_price_idx','cons_conf_idx','euribor3m','nr_employed']\n",
    "df.hist(column=header,figsize=(20,15))\n",
    "plt.subplots_adjust(wspace = 0.5, hspace = 0.5)\n",
    "plt.show()"
   ]
  },
  {
   "cell_type": "code",
   "execution_count": 16,
   "id": "03553a3c",
   "metadata": {
    "execution": {
     "iopub.execute_input": "2022-07-19T09:51:40.732047Z",
     "iopub.status.busy": "2022-07-19T09:51:40.731621Z",
     "iopub.status.idle": "2022-07-19T09:51:42.194732Z",
     "shell.execute_reply": "2022-07-19T09:51:42.193755Z"
    },
    "papermill": {
     "duration": 1.495579,
     "end_time": "2022-07-19T09:51:42.197087",
     "exception": false,
     "start_time": "2022-07-19T09:51:40.701508",
     "status": "completed"
    },
    "tags": []
   },
   "outputs": [
    {
     "data": {
      "image/png": "[encoded data removed]",
      "text/plain": [
       "<Figure size 1440x720 with 3 Axes>"
      ]
     },
     "metadata": {
      "needs_background": "light"
     },
     "output_type": "display_data"
    },
    {
     "data": {
      "image/png": "[encoded data removed]",
      "text/plain": [
       "<Figure size 1440x720 with 3 Axes>"
      ]
     },
     "metadata": {
      "needs_background": "light"
     },
     "output_type": "display_data"
    },
    {
     "data": {
      "image/png": "[encoded data removed]",
      "text/plain": [
       "<Figure size 1440x720 with 3 Axes>"
      ]
     },
     "metadata": {
      "needs_background": "light"
     },
     "output_type": "display_data"
    },
    {
     "data": {
      "image/png": "[encoded data removed]",
      "text/plain": [
       "<Figure size 1440x720 with 1 Axes>"
      ]
     },
     "metadata": {
      "needs_background": "light"
     },
     "output_type": "display_data"
    }
   ],
   "source": [
    "# 2.1.2. categorical variables\n",
    "\n",
    "plt.figure(1)\n",
    "\n",
    "plt.subplot(241)\n",
    "\n",
    "df['job'].value_counts(normalize=True).plot.bar(figsize=(20,10),title='job')\n",
    "\n",
    "plt.subplot(242)\n",
    "df['marital'].value_counts(normalize=True).plot.bar(figsize=(20,10),title='marital')\n",
    "\n",
    "plt.subplot(243)\n",
    "df['education'].value_counts(normalize=True).plot.bar(figsize=(20,10),title='education')\n",
    "\n",
    "plt.show()\n",
    "\n",
    "\n",
    "plt.figure(2)\n",
    "\n",
    "plt.subplot(241)\n",
    "df['default'].value_counts(normalize=True).plot.bar(figsize=(20,10),title='default' )\n",
    "\n",
    "plt.subplot(242)\n",
    "df['housing'].value_counts(normalize=True).plot.bar(figsize=(20,10),title='housing')\n",
    "\n",
    "plt.subplot(243)\n",
    "df['loan'].value_counts(normalize=True).plot.bar(figsize=(20,10),title='loan')\n",
    "\n",
    "plt.show()\n",
    "\n",
    "plt.figure(1)\n",
    "\n",
    "plt.subplot(241)\n",
    "df['contact'].value_counts(normalize=True).plot.bar(figsize=(20,10),title='contact')\n",
    "\n",
    "plt.subplot(242)\n",
    "df['month'].value_counts(normalize=True).plot.bar(figsize=(20,10),title='month')\n",
    "\n",
    "plt.subplot(243)\n",
    "df['poutcome'].value_counts(normalize=True).plot.bar(figsize=(20,10),title='poutcome')\n",
    "\n",
    "plt.show()\n",
    "\n",
    "plt.figure(1)\n",
    "\n",
    "plt.subplot(241)\n",
    "df['day_of_week'].value_counts(normalize=True).plot.bar(figsize=(20,10),title='day_of_week')\n",
    "\n",
    "plt.show()"
   ]
  },
  {
   "cell_type": "markdown",
   "id": "da9dc7a1",
   "metadata": {
    "papermill": {
     "duration": 0.029702,
     "end_time": "2022-07-19T09:51:42.257038",
     "exception": false,
     "start_time": "2022-07-19T09:51:42.227336",
     "status": "completed"
    },
    "tags": []
   },
   "source": [
    "##### Replacing unknown class with mode of the particular feature \n",
    "\n",
    "Have you noticed the 'unknown' class in few features?\n",
    "\n",
    "The features which are having unknown class is job, education, default, contact, poutcome. As we dont know the complete information about these class i will fill this class with mode of that particular feature."
   ]
  },
  {
   "cell_type": "code",
   "execution_count": 17,
   "id": "037aaa3c",
   "metadata": {
    "execution": {
     "iopub.execute_input": "2022-07-19T09:51:42.318858Z",
     "iopub.status.busy": "2022-07-19T09:51:42.318480Z",
     "iopub.status.idle": "2022-07-19T09:51:42.402531Z",
     "shell.execute_reply": "2022-07-19T09:51:42.401612Z"
    },
    "papermill": {
     "duration": 0.117856,
     "end_time": "2022-07-19T09:51:42.404949",
     "exception": false,
     "start_time": "2022-07-19T09:51:42.287093",
     "status": "completed"
    },
    "tags": []
   },
   "outputs": [],
   "source": [
    "df[\"job\"].replace([\"unknown\"],df[\"job\"].mode(),inplace = True)\n",
    "df[\"education\"].replace([\"unknown\"],df[\"education\"].mode(),inplace = True)\n",
    "df[\"default\"].replace([\"unknown\"],df[\"default\"].mode(),inplace = True)\n",
    "df[\"housing\"].replace([\"unknown\"],df[\"housing\"].mode(),inplace = True)\n",
    "df[\"loan\"].replace([\"unknown\"],df[\"loan\"].mode(),inplace = True)\n",
    "df[\"contact\"].replace([\"unknown\"],df[\"contact\"].mode(),inplace = True)"
   ]
  },
  {
   "cell_type": "markdown",
   "id": "a11e42a2",
   "metadata": {
    "papermill": {
     "duration": 0.030157,
     "end_time": "2022-07-19T09:51:42.465200",
     "exception": false,
     "start_time": "2022-07-19T09:51:42.435043",
     "status": "completed"
    },
    "tags": []
   },
   "source": [
    "### 2.2. Bivariate Analysis \n",
    "\n",
    "1. Categorical Variables: Bar charts - Goal - Analysis of frequency by category\n",
    "\n",
    "2. Numerical Variables:  Box plots - Goal - Detect any outliers.\n",
    "                       "
   ]
  },
  {
   "cell_type": "markdown",
   "id": "af713069",
   "metadata": {
    "papermill": {
     "duration": 0.02985,
     "end_time": "2022-07-19T09:51:42.525238",
     "exception": false,
     "start_time": "2022-07-19T09:51:42.495388",
     "status": "completed"
    },
    "tags": []
   },
   "source": [
    "### 2.2.1. Categorical Varibales :\n",
    "\n",
    "Features : job,marital, default, education,housing,loan,contact,poutcome,month,deposit,day_of_week"
   ]
  },
  {
   "cell_type": "markdown",
   "id": "02185634",
   "metadata": {
    "papermill": {
     "duration": 0.029602,
     "end_time": "2022-07-19T09:51:42.585072",
     "exception": false,
     "start_time": "2022-07-19T09:51:42.555470",
     "status": "completed"
    },
    "tags": []
   },
   "source": [
    "#### a) job Feature\n",
    "Administrative staff and technical specialists opened the deposit most of all and Customers with blue-collar and services jobs are less likely to subscribe for term deposit."
   ]
  },
  {
   "cell_type": "code",
   "execution_count": 18,
   "id": "beb56208",
   "metadata": {
    "execution": {
     "iopub.execute_input": "2022-07-19T09:51:42.647423Z",
     "iopub.status.busy": "2022-07-19T09:51:42.646989Z",
     "iopub.status.idle": "2022-07-19T09:51:42.927154Z",
     "shell.execute_reply": "2022-07-19T09:51:42.926048Z"
    },
    "papermill": {
     "duration": 0.313929,
     "end_time": "2022-07-19T09:51:42.929332",
     "exception": false,
     "start_time": "2022-07-19T09:51:42.615403",
     "status": "completed"
    },
    "tags": []
   },
   "outputs": [
    {
     "data": {
      "image/png": "[encoded data removed]",
      "text/plain": [
       "<Figure size 432x288 with 1 Axes>"
      ]
     },
     "metadata": {
      "needs_background": "light"
     },
     "output_type": "display_data"
    }
   ],
   "source": [
    "# Type of job and taget variable (y - term deposits)\n",
    "\n",
    "j_df = pd.DataFrame()\n",
    "\n",
    "j_df['no'] = df[df['y'] == 0]['job'].value_counts()\n",
    "j_df['yes'] = df[df['y'] == 1]['job'].value_counts()\n",
    "\n",
    "j_df.plot.bar(title = \"Bivariate analysis of the relationship between 'job' and 'y'\")\n",
    "\n",
    "plt.show()"
   ]
  },
  {
   "cell_type": "markdown",
   "id": "0bea5e36",
   "metadata": {
    "papermill": {
     "duration": 0.031242,
     "end_time": "2022-07-19T09:51:42.991241",
     "exception": false,
     "start_time": "2022-07-19T09:51:42.959999",
     "status": "completed"
    },
    "tags": []
   },
   "source": [
    "#### b) marital Feature\n",
    "\n",
    "The bank was interested more on married people and single than divorced. The three variables are presented in descending order. Direct relation of samples wrt. the target column. The most \"married\" samples meant more subscribers.\n"
   ]
  },
  {
   "cell_type": "code",
   "execution_count": 19,
   "id": "dbef4612",
   "metadata": {
    "execution": {
     "iopub.execute_input": "2022-07-19T09:51:43.056970Z",
     "iopub.status.busy": "2022-07-19T09:51:43.055924Z",
     "iopub.status.idle": "2022-07-19T09:51:43.274907Z",
     "shell.execute_reply": "2022-07-19T09:51:43.273975Z"
    },
    "papermill": {
     "duration": 0.25405,
     "end_time": "2022-07-19T09:51:43.277090",
     "exception": false,
     "start_time": "2022-07-19T09:51:43.023040",
     "status": "completed"
    },
    "tags": []
   },
   "outputs": [
    {
     "data": {
      "image/png": "[encoded data removed]",
      "text/plain": [
       "<Figure size 432x288 with 1 Axes>"
      ]
     },
     "metadata": {
      "needs_background": "light"
     },
     "output_type": "display_data"
    }
   ],
   "source": [
    "# marital status and taget variable (y - term deposits)\n",
    "\n",
    "j_df = pd.DataFrame()\n",
    "\n",
    "j_df['no'] = df[df['y'] == 0]['marital'].value_counts()\n",
    "j_df['yes'] = df[df['y'] == 1]['marital'].value_counts()\n",
    "\n",
    "j_df.plot.bar(title = \"Bivariate analysis of the relationship between 'marital' and 'y'\")\n",
    "\n",
    "plt.show()"
   ]
  },
  {
   "cell_type": "markdown",
   "id": "4aef2df6",
   "metadata": {
    "papermill": {
     "duration": 0.030909,
     "end_time": "2022-07-19T09:51:43.338959",
     "exception": false,
     "start_time": "2022-07-19T09:51:43.308050",
     "status": "completed"
    },
    "tags": []
   },
   "source": [
    "#### c) education Feature\n",
    "More people with higher education degrees were subscribed. Proportional relationship. More secondary profiles means more term deposit were sold."
   ]
  },
  {
   "cell_type": "code",
   "execution_count": 20,
   "id": "cba8a654",
   "metadata": {
    "execution": {
     "iopub.execute_input": "2022-07-19T09:51:43.402913Z",
     "iopub.status.busy": "2022-07-19T09:51:43.402154Z",
     "iopub.status.idle": "2022-07-19T09:51:43.656178Z",
     "shell.execute_reply": "2022-07-19T09:51:43.655429Z"
    },
    "papermill": {
     "duration": 0.288342,
     "end_time": "2022-07-19T09:51:43.658110",
     "exception": false,
     "start_time": "2022-07-19T09:51:43.369768",
     "status": "completed"
    },
    "tags": []
   },
   "outputs": [
    {
     "data": {
      "image/png": "[encoded data removed]",
      "text/plain": [
       "<Figure size 432x288 with 1 Axes>"
      ]
     },
     "metadata": {
      "needs_background": "light"
     },
     "output_type": "display_data"
    }
   ],
   "source": [
    "#education and taget variable (y - term deposits)\n",
    "\n",
    "j_df = pd.DataFrame()\n",
    "\n",
    "j_df['no'] = df[df['y'] == 0]['education'].value_counts()\n",
    "j_df['yes'] = df[df['y'] == 1]['education'].value_counts()\n",
    "\n",
    "j_df.plot.bar(title = \"Bivariate analysis of the relationship between 'education' and 'y'\")\n",
    "\n",
    "plt.show()"
   ]
  },
  {
   "cell_type": "markdown",
   "id": "71ffc073",
   "metadata": {
    "papermill": {
     "duration": 0.030943,
     "end_time": "2022-07-19T09:51:43.720106",
     "exception": false,
     "start_time": "2022-07-19T09:51:43.689163",
     "status": "completed"
    },
    "tags": []
   },
   "source": [
    "#### d) default Feature\n",
    "\n",
    "A high proportion of non-defaulters corresponds to the total of term deposit takers. It seems that it makes good sense that people with credit do not want to subscribe to a new bank offer.\n",
    "\n",
    "\n"
   ]
  },
  {
   "cell_type": "code",
   "execution_count": 21,
   "id": "eb402b36",
   "metadata": {
    "execution": {
     "iopub.execute_input": "2022-07-19T09:51:43.784920Z",
     "iopub.status.busy": "2022-07-19T09:51:43.784478Z",
     "iopub.status.idle": "2022-07-19T09:51:44.009510Z",
     "shell.execute_reply": "2022-07-19T09:51:44.008736Z"
    },
    "papermill": {
     "duration": 0.260409,
     "end_time": "2022-07-19T09:51:44.011804",
     "exception": false,
     "start_time": "2022-07-19T09:51:43.751395",
     "status": "completed"
    },
    "tags": []
   },
   "outputs": [
    {
     "data": {
      "image/png": "[encoded data removed]",
      "text/plain": [
       "<Figure size 432x288 with 1 Axes>"
      ]
     },
     "metadata": {
      "needs_background": "light"
     },
     "output_type": "display_data"
    }
   ],
   "source": [
    "#Default and taget variable (y - term deposits)\n",
    "j_df = pd.DataFrame()\n",
    "\n",
    "j_df['no'] = df[df['y'] == 0]['default'].value_counts()\n",
    "j_df['yes'] = df[df['y'] == 1]['default'].value_counts()\n",
    "\n",
    "j_df.plot.bar(title = \"Bivariate analysis of the relationship between 'default' and 'y'\")\n",
    "\n",
    "plt.show()"
   ]
  },
  {
   "cell_type": "markdown",
   "id": "92f35a98",
   "metadata": {
    "papermill": {
     "duration": 0.031033,
     "end_time": "2022-07-19T09:51:44.074430",
     "exception": false,
     "start_time": "2022-07-19T09:51:44.043397",
     "status": "completed"
    },
    "tags": []
   },
   "source": [
    "#### e)  housing Feature\n",
    "\n",
    "There are more people with a housing loan. People without a housing loan are in higher proportion decided to got subscribed to a term deposit. Inverse proportion relationship."
   ]
  },
  {
   "cell_type": "code",
   "execution_count": 22,
   "id": "edde2a4e",
   "metadata": {
    "execution": {
     "iopub.execute_input": "2022-07-19T09:51:44.139888Z",
     "iopub.status.busy": "2022-07-19T09:51:44.138672Z",
     "iopub.status.idle": "2022-07-19T09:51:44.353103Z",
     "shell.execute_reply": "2022-07-19T09:51:44.352318Z"
    },
    "papermill": {
     "duration": 0.249471,
     "end_time": "2022-07-19T09:51:44.355109",
     "exception": false,
     "start_time": "2022-07-19T09:51:44.105638",
     "status": "completed"
    },
    "tags": []
   },
   "outputs": [
    {
     "data": {
      "image/png": "[encoded data removed]",
      "text/plain": [
       "<Figure size 432x288 with 1 Axes>"
      ]
     },
     "metadata": {
      "needs_background": "light"
     },
     "output_type": "display_data"
    }
   ],
   "source": [
    "# Housing Default and taget variable (y - term deposits)\n",
    "j_df = pd.DataFrame()\n",
    "\n",
    "j_df['no'] = df[df['y'] == 0]['housing'].value_counts()\n",
    "j_df['yes'] = df[df['y'] == 1]['housing'].value_counts()\n",
    "\n",
    "j_df.plot.bar(title = \"Bivariate analysis of the relationship between 'housing' and 'y'\")\n",
    "\n",
    "plt.show()"
   ]
  },
  {
   "cell_type": "markdown",
   "id": "13308142",
   "metadata": {
    "papermill": {
     "duration": 0.031097,
     "end_time": "2022-07-19T09:51:44.417730",
     "exception": false,
     "start_time": "2022-07-19T09:51:44.386633",
     "status": "completed"
    },
    "tags": []
   },
   "source": [
    "#### f) loan Feature\n",
    "Likewise to housing loan, people without a personal loan were willing to got a deposit term (Higher proportion than housing loan). Just a few people with personal loan decided to got subscribed. Direct proportion relation."
   ]
  },
  {
   "cell_type": "code",
   "execution_count": 23,
   "id": "3ee7fa5b",
   "metadata": {
    "execution": {
     "iopub.execute_input": "2022-07-19T09:51:44.482621Z",
     "iopub.status.busy": "2022-07-19T09:51:44.481513Z",
     "iopub.status.idle": "2022-07-19T09:51:44.688920Z",
     "shell.execute_reply": "2022-07-19T09:51:44.688091Z"
    },
    "papermill": {
     "duration": 0.242042,
     "end_time": "2022-07-19T09:51:44.691065",
     "exception": false,
     "start_time": "2022-07-19T09:51:44.449023",
     "status": "completed"
    },
    "tags": []
   },
   "outputs": [
    {
     "data": {
      "image/png": "[encoded data removed]",
      "text/plain": [
       "<Figure size 432x288 with 1 Axes>"
      ]
     },
     "metadata": {
      "needs_background": "light"
     },
     "output_type": "display_data"
    }
   ],
   "source": [
    "# Loan and taget variable (y - term deposits)\n",
    "j_df = pd.DataFrame()\n",
    "\n",
    "j_df['no'] = df[df['y'] == 0]['loan'].value_counts()\n",
    "j_df['yes'] = df[df['y'] == 1]['loan'].value_counts()\n",
    "\n",
    "j_df.plot.bar(title = \"Bivariate analysis of the relationship between 'loan' and 'y'\")\n",
    "\n",
    "plt.show()"
   ]
  },
  {
   "cell_type": "markdown",
   "id": "21424908",
   "metadata": {
    "papermill": {
     "duration": 0.031821,
     "end_time": "2022-07-19T09:51:44.755219",
     "exception": false,
     "start_time": "2022-07-19T09:51:44.723398",
     "status": "completed"
    },
    "tags": []
   },
   "source": [
    "#### g) contact Feature\n",
    "\n",
    "The direct ratio in this graph shows that people who were contacted by cellular got subscribed more to a deposit term. As for the \"unknown\" variable, an imputation technique will be applied to process it along with the other variables."
   ]
  },
  {
   "cell_type": "code",
   "execution_count": 24,
   "id": "256dbf51",
   "metadata": {
    "execution": {
     "iopub.execute_input": "2022-07-19T09:51:44.821984Z",
     "iopub.status.busy": "2022-07-19T09:51:44.821052Z",
     "iopub.status.idle": "2022-07-19T09:51:45.021760Z",
     "shell.execute_reply": "2022-07-19T09:51:45.020833Z"
    },
    "papermill": {
     "duration": 0.236502,
     "end_time": "2022-07-19T09:51:45.024425",
     "exception": false,
     "start_time": "2022-07-19T09:51:44.787923",
     "status": "completed"
    },
    "tags": []
   },
   "outputs": [
    {
     "data": {
      "image/png": "[encoded data removed]",
      "text/plain": [
       "<Figure size 432x288 with 1 Axes>"
      ]
     },
     "metadata": {
      "needs_background": "light"
     },
     "output_type": "display_data"
    }
   ],
   "source": [
    "#type of contact and taget variable (y - term deposits)\n",
    "j_df = pd.DataFrame()\n",
    "\n",
    "j_df['no'] = df[df['y'] == 0]['contact'].value_counts()\n",
    "j_df['yes'] = df[df['y'] == 1]['contact'].value_counts()\n",
    "\n",
    "j_df.plot.bar(title = \"Bivariate analysis of the relationship between 'contact' and 'y'\")\n",
    "\n",
    "plt.show()"
   ]
  },
  {
   "cell_type": "markdown",
   "id": "a297958b",
   "metadata": {
    "papermill": {
     "duration": 0.032263,
     "end_time": "2022-07-19T09:51:45.088908",
     "exception": false,
     "start_time": "2022-07-19T09:51:45.056645",
     "status": "completed"
    },
    "tags": []
   },
   "source": [
    "#### h) month Feature\n",
    "May got an slightly more subscribers than the other months. Regardless how many people is contacted the subscription average is almost the same with the exception of December and January. These months were got the fewest subscriptions. One possible reasons could be the fact the people go for holidays. (In the Americas people are used to take holidays in this period of the year). Based on the fact that the plot shows a proportional distribution of \"yes\" the \"month\" feature will be removed since doesn't affect the outcome."
   ]
  },
  {
   "cell_type": "code",
   "execution_count": 25,
   "id": "1eca943f",
   "metadata": {
    "execution": {
     "iopub.execute_input": "2022-07-19T09:51:45.155363Z",
     "iopub.status.busy": "2022-07-19T09:51:45.154834Z",
     "iopub.status.idle": "2022-07-19T09:51:45.419100Z",
     "shell.execute_reply": "2022-07-19T09:51:45.418094Z"
    },
    "papermill": {
     "duration": 0.299758,
     "end_time": "2022-07-19T09:51:45.421303",
     "exception": false,
     "start_time": "2022-07-19T09:51:45.121545",
     "status": "completed"
    },
    "tags": []
   },
   "outputs": [
    {
     "data": {
      "image/png": "[encoded data removed]",
      "text/plain": [
       "<Figure size 432x288 with 1 Axes>"
      ]
     },
     "metadata": {
      "needs_background": "light"
     },
     "output_type": "display_data"
    }
   ],
   "source": [
    "# month and taget variable (y - term deposits)\n",
    "j_df = pd.DataFrame()\n",
    "\n",
    "j_df['no'] = df[df['y'] == 0]['month'].value_counts()\n",
    "j_df['yes'] = df[df['y'] == 1]['month'].value_counts()\n",
    "\n",
    "j_df.plot.bar(title = \"Bivariate analysis of the relationship between 'month' and 'y'\")\n",
    "\n",
    "plt.show()"
   ]
  },
  {
   "cell_type": "markdown",
   "id": "f27a2296",
   "metadata": {
    "papermill": {
     "duration": 0.033916,
     "end_time": "2022-07-19T09:51:45.488538",
     "exception": false,
     "start_time": "2022-07-19T09:51:45.454622",
     "status": "completed"
    },
    "tags": []
   },
   "source": [
    "#### i) poutcome Feature\n",
    "This one correspond to the outcome of success of the previous marketing campaign. What does mean \"unknown\"? It means, that 78.7% of the people contacted did not know about the previous marketing campaign. The effrot on this campaign could have a positive impact in the last campaign. \"success\" has a very small percentage, but relevant for the analysis."
   ]
  },
  {
   "cell_type": "code",
   "execution_count": 26,
   "id": "ae68262b",
   "metadata": {
    "execution": {
     "iopub.execute_input": "2022-07-19T09:51:45.556608Z",
     "iopub.status.busy": "2022-07-19T09:51:45.555952Z",
     "iopub.status.idle": "2022-07-19T09:51:46.032541Z",
     "shell.execute_reply": "2022-07-19T09:51:46.031661Z"
    },
    "papermill": {
     "duration": 0.513282,
     "end_time": "2022-07-19T09:51:46.034982",
     "exception": false,
     "start_time": "2022-07-19T09:51:45.521700",
     "status": "completed"
    },
    "tags": []
   },
   "outputs": [
    {
     "data": {
      "image/png": "[encoded data removed]",
      "text/plain": [
       "<Figure size 432x288 with 1 Axes>"
      ]
     },
     "metadata": {
      "needs_background": "light"
     },
     "output_type": "display_data"
    }
   ],
   "source": [
    "# poutcome and taget variable (y - term deposits)\n",
    "j_df = pd.DataFrame()\n",
    "\n",
    "j_df['no'] = df[df['y'] == 0]['month'].value_counts()\n",
    "j_df['yes'] = df[df['y'] == 1]['month'].value_counts()\n",
    "\n",
    "j_df.plot.bar(title = \"Bivariate analysis of the relationship between 'month' and 'y'\")\n",
    "\n",
    "plt.show()"
   ]
  },
  {
   "cell_type": "markdown",
   "id": "9a92701d",
   "metadata": {
    "papermill": {
     "duration": 0.03868,
     "end_time": "2022-07-19T09:51:46.107602",
     "exception": false,
     "start_time": "2022-07-19T09:51:46.068922",
     "status": "completed"
    },
    "tags": []
   },
   "source": [
    "### 2.2.1. Numerical Variables: \n",
    "\n",
    "age, campaign,duration, pdays,previous, emp_var_rate, cons_price_idx , cons_conf_idx, euribor3m, nr_employed."
   ]
  },
  {
   "cell_type": "code",
   "execution_count": 27,
   "id": "25ea0c81",
   "metadata": {
    "execution": {
     "iopub.execute_input": "2022-07-19T09:51:46.175491Z",
     "iopub.status.busy": "2022-07-19T09:51:46.174826Z",
     "iopub.status.idle": "2022-07-19T09:51:46.787449Z",
     "shell.execute_reply": "2022-07-19T09:51:46.786763Z"
    },
    "papermill": {
     "duration": 0.648701,
     "end_time": "2022-07-19T09:51:46.789454",
     "exception": false,
     "start_time": "2022-07-19T09:51:46.140753",
     "status": "completed"
    },
    "tags": []
   },
   "outputs": [
    {
     "data": {
      "image/png": "[encoded data removed]",
      "text/plain": [
       "<Figure size 1152x360 with 2 Axes>"
      ]
     },
     "metadata": {
      "needs_background": "light"
     },
     "output_type": "display_data"
    }
   ],
   "source": [
    "plt.figure(1)\n",
    "plt.subplot(121)\n",
    "sns.distplot(df['age'])\n",
    "\n",
    "plt.subplot(122)\n",
    "df['age'].plot.box(figsize=(16,5))\n",
    "plt.show()"
   ]
  },
  {
   "cell_type": "code",
   "execution_count": 28,
   "id": "ac7970e5",
   "metadata": {
    "execution": {
     "iopub.execute_input": "2022-07-19T09:51:46.859927Z",
     "iopub.status.busy": "2022-07-19T09:51:46.859155Z",
     "iopub.status.idle": "2022-07-19T09:51:47.454239Z",
     "shell.execute_reply": "2022-07-19T09:51:47.453497Z"
    },
    "papermill": {
     "duration": 0.632834,
     "end_time": "2022-07-19T09:51:47.456369",
     "exception": false,
     "start_time": "2022-07-19T09:51:46.823535",
     "status": "completed"
    },
    "tags": []
   },
   "outputs": [
    {
     "data": {
      "image/png": "[encoded data removed]",
      "text/plain": [
       "<Figure size 1152x360 with 2 Axes>"
      ]
     },
     "metadata": {
      "needs_background": "light"
     },
     "output_type": "display_data"
    }
   ],
   "source": [
    "plt.figure(1)\n",
    "plt.subplot(121)\n",
    "sns.distplot(df['campaign'])\n",
    "\n",
    "plt.subplot(122)\n",
    "df['campaign'].plot.box(figsize=(16,5))\n",
    "plt.show()"
   ]
  },
  {
   "cell_type": "code",
   "execution_count": 29,
   "id": "089fcd5c",
   "metadata": {
    "execution": {
     "iopub.execute_input": "2022-07-19T09:51:47.526167Z",
     "iopub.status.busy": "2022-07-19T09:51:47.525616Z",
     "iopub.status.idle": "2022-07-19T09:51:48.130924Z",
     "shell.execute_reply": "2022-07-19T09:51:48.129815Z"
    },
    "papermill": {
     "duration": 0.64278,
     "end_time": "2022-07-19T09:51:48.133281",
     "exception": false,
     "start_time": "2022-07-19T09:51:47.490501",
     "status": "completed"
    },
    "tags": []
   },
   "outputs": [
    {
     "data": {
      "image/png": "[encoded data removed]",
      "text/plain": [
       "<Figure size 1152x360 with 2 Axes>"
      ]
     },
     "metadata": {
      "needs_background": "light"
     },
     "output_type": "display_data"
    }
   ],
   "source": [
    "plt.figure(1)\n",
    "plt.subplot(121)\n",
    "sns.distplot(df['duration'])\n",
    "\n",
    "plt.subplot(122)\n",
    "df['duration'].plot.box(figsize=(16,5))\n",
    "plt.show()"
   ]
  },
  {
   "cell_type": "code",
   "execution_count": 30,
   "id": "8731857c",
   "metadata": {
    "execution": {
     "iopub.execute_input": "2022-07-19T09:51:48.204139Z",
     "iopub.status.busy": "2022-07-19T09:51:48.203492Z",
     "iopub.status.idle": "2022-07-19T09:51:48.808050Z",
     "shell.execute_reply": "2022-07-19T09:51:48.807399Z"
    },
    "papermill": {
     "duration": 0.642032,
     "end_time": "2022-07-19T09:51:48.809799",
     "exception": false,
     "start_time": "2022-07-19T09:51:48.167767",
     "status": "completed"
    },
    "tags": []
   },
   "outputs": [
    {
     "data": {
      "image/png": "[encoded data removed]",
      "text/plain": [
       "<Figure size 1152x360 with 2 Axes>"
      ]
     },
     "metadata": {
      "needs_background": "light"
     },
     "output_type": "display_data"
    }
   ],
   "source": [
    "plt.figure(1)\n",
    "plt.subplot(121)\n",
    "sns.distplot(df['pdays'])\n",
    "\n",
    "plt.subplot(122)\n",
    "df['pdays'].plot.box(figsize=(16,5))\n",
    "plt.show()"
   ]
  },
  {
   "cell_type": "code",
   "execution_count": 31,
   "id": "7b634ffd",
   "metadata": {
    "execution": {
     "iopub.execute_input": "2022-07-19T09:51:48.881154Z",
     "iopub.status.busy": "2022-07-19T09:51:48.880480Z",
     "iopub.status.idle": "2022-07-19T09:51:49.489337Z",
     "shell.execute_reply": "2022-07-19T09:51:49.488596Z"
    },
    "papermill": {
     "duration": 0.647378,
     "end_time": "2022-07-19T09:51:49.491308",
     "exception": false,
     "start_time": "2022-07-19T09:51:48.843930",
     "status": "completed"
    },
    "tags": []
   },
   "outputs": [
    {
     "data": {
      "image/png": "[encoded data removed]",
      "text/plain": [
       "<Figure size 1152x360 with 2 Axes>"
      ]
     },
     "metadata": {
      "needs_background": "light"
     },
     "output_type": "display_data"
    }
   ],
   "source": [
    "plt.figure(1)\n",
    "plt.subplot(121)\n",
    "sns.distplot(df['previous'])\n",
    "\n",
    "plt.subplot(122)\n",
    "df['previous'].plot.box(figsize=(16,5))\n",
    "plt.show()"
   ]
  },
  {
   "cell_type": "code",
   "execution_count": 32,
   "id": "4ae8a557",
   "metadata": {
    "execution": {
     "iopub.execute_input": "2022-07-19T09:51:49.564497Z",
     "iopub.status.busy": "2022-07-19T09:51:49.563829Z",
     "iopub.status.idle": "2022-07-19T09:51:50.096822Z",
     "shell.execute_reply": "2022-07-19T09:51:50.095762Z"
    },
    "papermill": {
     "duration": 0.572345,
     "end_time": "2022-07-19T09:51:50.099120",
     "exception": false,
     "start_time": "2022-07-19T09:51:49.526775",
     "status": "completed"
    },
    "tags": []
   },
   "outputs": [
    {
     "data": {
      "image/png": "[encoded data removed]",
      "text/plain": [
       "<Figure size 1152x360 with 2 Axes>"
      ]
     },
     "metadata": {
      "needs_background": "light"
     },
     "output_type": "display_data"
    }
   ],
   "source": [
    "\n",
    "plt.figure(1)\n",
    "plt.subplot(121)\n",
    "sns.distplot(df['emp_var_rate'])\n",
    "\n",
    "plt.subplot(122)\n",
    "df['emp_var_rate'].plot.box(figsize=(16,5))\n",
    "plt.show()\n"
   ]
  },
  {
   "cell_type": "code",
   "execution_count": 33,
   "id": "db6eae7c",
   "metadata": {
    "execution": {
     "iopub.execute_input": "2022-07-19T09:51:50.173121Z",
     "iopub.status.busy": "2022-07-19T09:51:50.172717Z",
     "iopub.status.idle": "2022-07-19T09:51:50.743395Z",
     "shell.execute_reply": "2022-07-19T09:51:50.742355Z"
    },
    "papermill": {
     "duration": 0.611284,
     "end_time": "2022-07-19T09:51:50.745771",
     "exception": false,
     "start_time": "2022-07-19T09:51:50.134487",
     "status": "completed"
    },
    "tags": []
   },
   "outputs": [
    {
     "data": {
      "image/png": "[encoded data removed]",
      "text/plain": [
       "<Figure size 1152x360 with 2 Axes>"
      ]
     },
     "metadata": {
      "needs_background": "light"
     },
     "output_type": "display_data"
    }
   ],
   "source": [
    "\n",
    "plt.figure(1)\n",
    "plt.subplot(121)\n",
    "sns.distplot(df['cons_price_idx'])\n",
    "\n",
    "plt.subplot(122)\n",
    "df['cons_price_idx'].plot.box(figsize=(16,5))\n",
    "plt.show()"
   ]
  },
  {
   "cell_type": "code",
   "execution_count": 34,
   "id": "efc4b808",
   "metadata": {
    "execution": {
     "iopub.execute_input": "2022-07-19T09:51:50.821521Z",
     "iopub.status.busy": "2022-07-19T09:51:50.821097Z",
     "iopub.status.idle": "2022-07-19T09:51:51.555323Z",
     "shell.execute_reply": "2022-07-19T09:51:51.554499Z"
    },
    "papermill": {
     "duration": 0.773565,
     "end_time": "2022-07-19T09:51:51.557389",
     "exception": false,
     "start_time": "2022-07-19T09:51:50.783824",
     "status": "completed"
    },
    "tags": []
   },
   "outputs": [
    {
     "data": {
      "image/png": "[encoded data removed]",
      "text/plain": [
       "<Figure size 1152x360 with 2 Axes>"
      ]
     },
     "metadata": {
      "needs_background": "light"
     },
     "output_type": "display_data"
    }
   ],
   "source": [
    "plt.figure(1)\n",
    "plt.subplot(121)\n",
    "sns.distplot(df['cons_conf_idx'])\n",
    "\n",
    "plt.subplot(122)\n",
    "df['cons_conf_idx'].plot.box(figsize=(16,5))\n",
    "plt.show()"
   ]
  },
  {
   "cell_type": "code",
   "execution_count": 35,
   "id": "bae0ea9d",
   "metadata": {
    "execution": {
     "iopub.execute_input": "2022-07-19T09:51:51.631509Z",
     "iopub.status.busy": "2022-07-19T09:51:51.631065Z",
     "iopub.status.idle": "2022-07-19T09:51:52.150308Z",
     "shell.execute_reply": "2022-07-19T09:51:52.149363Z"
    },
    "papermill": {
     "duration": 0.558782,
     "end_time": "2022-07-19T09:51:52.152546",
     "exception": false,
     "start_time": "2022-07-19T09:51:51.593764",
     "status": "completed"
    },
    "tags": []
   },
   "outputs": [
    {
     "data": {
      "image/png": "[encoded data removed]",
      "text/plain": [
       "<Figure size 1152x360 with 2 Axes>"
      ]
     },
     "metadata": {
      "needs_background": "light"
     },
     "output_type": "display_data"
    }
   ],
   "source": [
    "plt.figure(1)\n",
    "plt.subplot(121)\n",
    "sns.distplot(df['euribor3m'])\n",
    "\n",
    "plt.subplot(122)\n",
    "df['euribor3m'].plot.box(figsize=(16,5))\n",
    "plt.show()"
   ]
  },
  {
   "cell_type": "code",
   "execution_count": 36,
   "id": "9d38f2b5",
   "metadata": {
    "execution": {
     "iopub.execute_input": "2022-07-19T09:51:52.228002Z",
     "iopub.status.busy": "2022-07-19T09:51:52.227621Z",
     "iopub.status.idle": "2022-07-19T09:51:52.764594Z",
     "shell.execute_reply": "2022-07-19T09:51:52.763593Z"
    },
    "papermill": {
     "duration": 0.577464,
     "end_time": "2022-07-19T09:51:52.766830",
     "exception": false,
     "start_time": "2022-07-19T09:51:52.189366",
     "status": "completed"
    },
    "tags": []
   },
   "outputs": [
    {
     "data": {
      "image/png": "[encoded data removed]",
      "text/plain": [
       "<Figure size 1152x360 with 2 Axes>"
      ]
     },
     "metadata": {
      "needs_background": "light"
     },
     "output_type": "display_data"
    }
   ],
   "source": [
    "plt.figure(1)\n",
    "plt.subplot(121)\n",
    "sns.distplot(df['nr_employed'])\n",
    "\n",
    "plt.subplot(122)\n",
    "df['nr_employed'].plot.box(figsize=(16,5))\n",
    "plt.show()"
   ]
  },
  {
   "cell_type": "markdown",
   "id": "9df16234",
   "metadata": {
    "papermill": {
     "duration": 0.036987,
     "end_time": "2022-07-19T09:51:52.841413",
     "exception": false,
     "start_time": "2022-07-19T09:51:52.804426",
     "status": "completed"
    },
    "tags": []
   },
   "source": [
    "##### Conclusion after Exploratory Data Analysis (EDA) for Continuous Features:\n",
    "\n",
    "1. For the age feature histogram displays a bell-shaped image, presents below, that has a left-shifted normal distribution. The population group is between 20 and 60. The box-plot shows an specific targeted age group between 30 and 50. \n",
    "2. Duration feature has an influence on the \"y\" outcome. We can see that when duration is between 0 and the 2 first minutes most of the people reject the offer. The remanent samples take a desicion in a range greater than 2 min up to 12 min. Just a very few take quite a long to both reject or accept the offer.\n",
    "3. \"Campaign\" represenst the number of contacts performed during this campaign. Second, the people who were contacted a few times were the people who decided to subscribe a deposit term. Contrary to this, to try to contact people too many times is a waste of time.\n",
    "4. pdays feature is the number of days that passed by after the client was last contacted from a previous campaign (numeric, -1 means client was not previously contacted). Almost most of the people were contacted for the first time. So, this feature will be removed since does not affect the outcome.\n",
    "5. \"previous\" is the number of contacts performed before this campaign and for this client. As it is shown below, 36954 belong to 0. It means, 36954 were contacted for first time for this campaign. In addition, the box-plot is not present, it does not show a distribution, indicating that there is no relation wrt. the target. It will be removed from the analysis as well.\n",
    "6. We can see there is a high employee variation rate which signifies that they have made the campaign when there were high shifts in job due to conditions of economy\n",
    "7. The Consumer price index is also good which shows the leads where having good price to pay for goods and services may be that could be the reason to stimulate these leads into making a deposit and plant the idea of savings\n",
    "8. Consumer confidence index is pretty low as they don't have much confidence on the fluctuating economy\n",
    "9. The 3 month Euribor interest rate is the interest rate at which a selection of European banks lend one another funds denominated in euros whereby the loans have a maturity of 3 months. In our case the interest rates are high for lending their loans\n",
    "10. The number of employees were also at peak which can increase their income index that could be the reason the campaign targetted the leads who were employeed to make a deposit\n",
    "11. Every feature contains some amount of Outliers (Anomalies) which needs to be handled well in order for our ML model to learn in a specific range of values\n",
    "\n",
    "\n"
   ]
  },
  {
   "cell_type": "markdown",
   "id": "b6eb8f40",
   "metadata": {
    "papermill": {
     "duration": 0.037549,
     "end_time": "2022-07-19T09:51:52.917087",
     "exception": false,
     "start_time": "2022-07-19T09:51:52.879538",
     "status": "completed"
    },
    "tags": []
   },
   "source": [
    "## 3. Train-Test Split"
   ]
  },
  {
   "cell_type": "code",
   "execution_count": 37,
   "id": "e297b954",
   "metadata": {
    "execution": {
     "iopub.execute_input": "2022-07-19T09:51:52.994776Z",
     "iopub.status.busy": "2022-07-19T09:51:52.993996Z",
     "iopub.status.idle": "2022-07-19T09:51:53.017566Z",
     "shell.execute_reply": "2022-07-19T09:51:53.016514Z"
    },
    "papermill": {
     "duration": 0.065397,
     "end_time": "2022-07-19T09:51:53.019933",
     "exception": false,
     "start_time": "2022-07-19T09:51:52.954536",
     "status": "completed"
    },
    "tags": []
   },
   "outputs": [
    {
     "data": {
      "text/html": [
       "<div>\n",
       "<style scoped>\n",
       "    .dataframe tbody tr th:only-of-type {\n",
       "        vertical-align: middle;\n",
       "    }\n",
       "\n",
       "    .dataframe tbody tr th {\n",
       "        vertical-align: top;\n",
       "    }\n",
       "\n",
       "    .dataframe thead th {\n",
       "        text-align: right;\n",
       "    }\n",
       "</style>\n",
       "<table border=\"1\" class=\"dataframe\">\n",
       "  <thead>\n",
       "    <tr style=\"text-align: right;\">\n",
       "      <th></th>\n",
       "      <th>age</th>\n",
       "      <th>job</th>\n",
       "      <th>marital</th>\n",
       "      <th>education</th>\n",
       "      <th>default</th>\n",
       "      <th>contact</th>\n",
       "      <th>day_of_week</th>\n",
       "      <th>duration</th>\n",
       "      <th>campaign</th>\n",
       "      <th>previous</th>\n",
       "      <th>poutcome</th>\n",
       "      <th>cons_conf_idx</th>\n",
       "      <th>euribor3m</th>\n",
       "      <th>nr_employed</th>\n",
       "    </tr>\n",
       "  </thead>\n",
       "  <tbody>\n",
       "    <tr>\n",
       "      <th>0</th>\n",
       "      <td>56</td>\n",
       "      <td>housemaid</td>\n",
       "      <td>married</td>\n",
       "      <td>basic.4y</td>\n",
       "      <td>no</td>\n",
       "      <td>telephone</td>\n",
       "      <td>mon</td>\n",
       "      <td>261</td>\n",
       "      <td>1</td>\n",
       "      <td>0</td>\n",
       "      <td>nonexistent</td>\n",
       "      <td>-36.4</td>\n",
       "      <td>4.857</td>\n",
       "      <td>5191.0</td>\n",
       "    </tr>\n",
       "    <tr>\n",
       "      <th>1</th>\n",
       "      <td>57</td>\n",
       "      <td>services</td>\n",
       "      <td>married</td>\n",
       "      <td>high.school</td>\n",
       "      <td>no</td>\n",
       "      <td>telephone</td>\n",
       "      <td>mon</td>\n",
       "      <td>149</td>\n",
       "      <td>1</td>\n",
       "      <td>0</td>\n",
       "      <td>nonexistent</td>\n",
       "      <td>-36.4</td>\n",
       "      <td>4.857</td>\n",
       "      <td>5191.0</td>\n",
       "    </tr>\n",
       "    <tr>\n",
       "      <th>2</th>\n",
       "      <td>37</td>\n",
       "      <td>services</td>\n",
       "      <td>married</td>\n",
       "      <td>high.school</td>\n",
       "      <td>no</td>\n",
       "      <td>telephone</td>\n",
       "      <td>mon</td>\n",
       "      <td>226</td>\n",
       "      <td>1</td>\n",
       "      <td>0</td>\n",
       "      <td>nonexistent</td>\n",
       "      <td>-36.4</td>\n",
       "      <td>4.857</td>\n",
       "      <td>5191.0</td>\n",
       "    </tr>\n",
       "    <tr>\n",
       "      <th>3</th>\n",
       "      <td>40</td>\n",
       "      <td>admin.</td>\n",
       "      <td>married</td>\n",
       "      <td>basic.6y</td>\n",
       "      <td>no</td>\n",
       "      <td>telephone</td>\n",
       "      <td>mon</td>\n",
       "      <td>151</td>\n",
       "      <td>1</td>\n",
       "      <td>0</td>\n",
       "      <td>nonexistent</td>\n",
       "      <td>-36.4</td>\n",
       "      <td>4.857</td>\n",
       "      <td>5191.0</td>\n",
       "    </tr>\n",
       "    <tr>\n",
       "      <th>4</th>\n",
       "      <td>56</td>\n",
       "      <td>services</td>\n",
       "      <td>married</td>\n",
       "      <td>high.school</td>\n",
       "      <td>no</td>\n",
       "      <td>telephone</td>\n",
       "      <td>mon</td>\n",
       "      <td>307</td>\n",
       "      <td>1</td>\n",
       "      <td>0</td>\n",
       "      <td>nonexistent</td>\n",
       "      <td>-36.4</td>\n",
       "      <td>4.857</td>\n",
       "      <td>5191.0</td>\n",
       "    </tr>\n",
       "  </tbody>\n",
       "</table>\n",
       "</div>"
      ],
      "text/plain": [
       "   age        job  marital    education default    contact day_of_week  \\\n",
       "0   56  housemaid  married     basic.4y      no  telephone         mon   \n",
       "1   57   services  married  high.school      no  telephone         mon   \n",
       "2   37   services  married  high.school      no  telephone         mon   \n",
       "3   40     admin.  married     basic.6y      no  telephone         mon   \n",
       "4   56   services  married  high.school      no  telephone         mon   \n",
       "\n",
       "   duration  campaign  previous     poutcome  cons_conf_idx  euribor3m  \\\n",
       "0       261         1         0  nonexistent          -36.4      4.857   \n",
       "1       149         1         0  nonexistent          -36.4      4.857   \n",
       "2       226         1         0  nonexistent          -36.4      4.857   \n",
       "3       151         1         0  nonexistent          -36.4      4.857   \n",
       "4       307         1         0  nonexistent          -36.4      4.857   \n",
       "\n",
       "   nr_employed  \n",
       "0       5191.0  \n",
       "1       5191.0  \n",
       "2       5191.0  \n",
       "3       5191.0  \n",
       "4       5191.0  "
      ]
     },
     "execution_count": 37,
     "metadata": {},
     "output_type": "execute_result"
    }
   ],
   "source": [
    "# deleting the unnecessary varibles from input data\n",
    "\n",
    "X = df.drop(columns=[ 'pdays','month','cons_price_idx','loan','housing','emp_var_rate','y'])\n",
    "\n",
    "X.head()"
   ]
  },
  {
   "cell_type": "code",
   "execution_count": 38,
   "id": "e7c24f67",
   "metadata": {
    "execution": {
     "iopub.execute_input": "2022-07-19T09:51:53.097186Z",
     "iopub.status.busy": "2022-07-19T09:51:53.096322Z",
     "iopub.status.idle": "2022-07-19T09:51:53.103919Z",
     "shell.execute_reply": "2022-07-19T09:51:53.102881Z"
    },
    "papermill": {
     "duration": 0.048375,
     "end_time": "2022-07-19T09:51:53.105853",
     "exception": false,
     "start_time": "2022-07-19T09:51:53.057478",
     "status": "completed"
    },
    "tags": []
   },
   "outputs": [
    {
     "data": {
      "text/plain": [
       "0    0\n",
       "1    0\n",
       "2    0\n",
       "3    0\n",
       "4    0\n",
       "Name: y, dtype: uint8"
      ]
     },
     "execution_count": 38,
     "metadata": {},
     "output_type": "execute_result"
    }
   ],
   "source": [
    "y = df['y']\n",
    "y.head()"
   ]
  },
  {
   "cell_type": "code",
   "execution_count": 39,
   "id": "cbce27e6",
   "metadata": {
    "execution": {
     "iopub.execute_input": "2022-07-19T09:51:53.184231Z",
     "iopub.status.busy": "2022-07-19T09:51:53.183802Z",
     "iopub.status.idle": "2022-07-19T09:51:53.191375Z",
     "shell.execute_reply": "2022-07-19T09:51:53.190689Z"
    },
    "papermill": {
     "duration": 0.048674,
     "end_time": "2022-07-19T09:51:53.193171",
     "exception": false,
     "start_time": "2022-07-19T09:51:53.144497",
     "status": "completed"
    },
    "tags": []
   },
   "outputs": [
    {
     "data": {
      "text/plain": [
       "0    36548\n",
       "1     4640\n",
       "Name: y, dtype: int64"
      ]
     },
     "execution_count": 39,
     "metadata": {},
     "output_type": "execute_result"
    }
   ],
   "source": [
    "y.value_counts()"
   ]
  },
  {
   "cell_type": "code",
   "execution_count": 40,
   "id": "3ead60db",
   "metadata": {
    "execution": {
     "iopub.execute_input": "2022-07-19T09:51:53.272512Z",
     "iopub.status.busy": "2022-07-19T09:51:53.271890Z",
     "iopub.status.idle": "2022-07-19T09:51:53.286356Z",
     "shell.execute_reply": "2022-07-19T09:51:53.285625Z"
    },
    "papermill": {
     "duration": 0.057111,
     "end_time": "2022-07-19T09:51:53.288528",
     "exception": false,
     "start_time": "2022-07-19T09:51:53.231417",
     "status": "completed"
    },
    "tags": []
   },
   "outputs": [],
   "source": [
    "X_train, X_test, y_train, y_test = train_test_split(X, y, test_size=0.33, random_state=42)"
   ]
  },
  {
   "cell_type": "markdown",
   "id": "92cb9192",
   "metadata": {
    "papermill": {
     "duration": 0.037943,
     "end_time": "2022-07-19T09:51:53.365255",
     "exception": false,
     "start_time": "2022-07-19T09:51:53.327312",
     "status": "completed"
    },
    "tags": []
   },
   "source": [
    "## 4. Data Preprocessing"
   ]
  },
  {
   "cell_type": "markdown",
   "id": "f8db978a",
   "metadata": {
    "papermill": {
     "duration": 0.038025,
     "end_time": "2022-07-19T09:51:53.441464",
     "exception": false,
     "start_time": "2022-07-19T09:51:53.403439",
     "status": "completed"
    },
    "tags": []
   },
   "source": [
    "### 4.1 Creating a custom Transformer to handle the Outliers\n",
    "\n",
    "This Transformer will assess the distribution of data within a feature i.e. whether the data is Normally distributed or not, and will accordingly handle the Outliers for this feature. It will continue to perform it's job separately for all the features within the provided data set.\n",
    "\n",
    "If the data is Normally distributed: 3 Sigma method\n",
    "\n",
    "If the data is Not Normally distributed: Inter-quartile Range(IQR) method\n"
   ]
  },
  {
   "cell_type": "code",
   "execution_count": 41,
   "id": "7689d801",
   "metadata": {
    "execution": {
     "iopub.execute_input": "2022-07-19T09:51:53.519244Z",
     "iopub.status.busy": "2022-07-19T09:51:53.518636Z",
     "iopub.status.idle": "2022-07-19T09:51:53.529210Z",
     "shell.execute_reply": "2022-07-19T09:51:53.528432Z"
    },
    "papermill": {
     "duration": 0.051807,
     "end_time": "2022-07-19T09:51:53.531359",
     "exception": false,
     "start_time": "2022-07-19T09:51:53.479552",
     "status": "completed"
    },
    "tags": []
   },
   "outputs": [],
   "source": [
    "# My custom Transformer to handle the Outliers\n",
    "\n",
    "from sklearn.base import TransformerMixin\n",
    "import pandas as pd\n",
    "pd.options.mode.chained_assignment = None  # To ignore the warning for not returning a copied DataFrame\n",
    "\n",
    "class HandleOutliers(TransformerMixin):\n",
    "    \n",
    "    def fit(self, X, y=None):\n",
    "        return self\n",
    "    \n",
    "    def transform(self, X):\n",
    "\n",
    "        from scipy.stats import shapiro\n",
    "\n",
    "        for col in X.columns : # Looping through all columns within the given DataFrame\n",
    "            \n",
    "            # If p-value < 0.05 == Skewed Distribution, else Normal Distribution\n",
    "            \n",
    "            if shapiro(X[col]).pvalue < 0.05 :\n",
    "\n",
    "                # IQR method to handle outliers with Skewed Distribution\n",
    "                q1 = X[col].quantile(0.25)\n",
    "                q3 = X[col].quantile(0.75)\n",
    "\n",
    "                iqr = q3 - q1\n",
    "\n",
    "                lower_boundary = q1 - 1.5 * q1\n",
    "                upper_boundary = q3 + 1.5 * q3\n",
    "\n",
    "                X.loc[X[col] <= lower_boundary, col] = lower_boundary\n",
    "                X.loc[X[col] >= upper_boundary, col] = upper_boundary\n",
    "\n",
    "                \n",
    "            else :\n",
    "\n",
    "                # 3-Sigma method to handle outliers with Normal Distribution\n",
    "                lower_boundary = X[col].mean() - 3 * X[col].std()\n",
    "                upper_boundary = X[col].mean() + 3 * X[col].std()\n",
    "\n",
    "                X.loc[X[col] <= lower_boundary, col] = lower_boundary\n",
    "                X.loc[X[col] >= upper_boundary, col] = upper_boundary\n",
    "                \n",
    "        return X"
   ]
  },
  {
   "cell_type": "markdown",
   "id": "c9a1a773",
   "metadata": {
    "papermill": {
     "duration": 0.038826,
     "end_time": "2022-07-19T09:51:53.608425",
     "exception": false,
     "start_time": "2022-07-19T09:51:53.569599",
     "status": "completed"
    },
    "tags": []
   },
   "source": [
    "### 4.2. Preprocessing the Train and Test Data separately"
   ]
  },
  {
   "cell_type": "markdown",
   "id": "b08eda82",
   "metadata": {
    "papermill": {
     "duration": 0.037894,
     "end_time": "2022-07-19T09:51:53.684598",
     "exception": false,
     "start_time": "2022-07-19T09:51:53.646704",
     "status": "completed"
    },
    "tags": []
   },
   "source": [
    "#### Encoding binary class features for train and test data"
   ]
  },
  {
   "cell_type": "code",
   "execution_count": 42,
   "id": "bb1a2f7f",
   "metadata": {
    "execution": {
     "iopub.execute_input": "2022-07-19T09:51:53.763060Z",
     "iopub.status.busy": "2022-07-19T09:51:53.762431Z",
     "iopub.status.idle": "2022-07-19T09:51:53.779097Z",
     "shell.execute_reply": "2022-07-19T09:51:53.778291Z"
    },
    "papermill": {
     "duration": 0.058525,
     "end_time": "2022-07-19T09:51:53.781284",
     "exception": false,
     "start_time": "2022-07-19T09:51:53.722759",
     "status": "completed"
    },
    "tags": []
   },
   "outputs": [],
   "source": [
    "X_train['default'] = X_train['default'].map({'yes': 1, 'no': 0})\n",
    "X_train['contact'] = X_train['contact'].map({'telephone': 1, 'cellular': 0})"
   ]
  },
  {
   "cell_type": "code",
   "execution_count": 43,
   "id": "2ea12005",
   "metadata": {
    "execution": {
     "iopub.execute_input": "2022-07-19T09:51:53.859413Z",
     "iopub.status.busy": "2022-07-19T09:51:53.858984Z",
     "iopub.status.idle": "2022-07-19T09:51:53.870722Z",
     "shell.execute_reply": "2022-07-19T09:51:53.869995Z"
    },
    "papermill": {
     "duration": 0.053294,
     "end_time": "2022-07-19T09:51:53.872983",
     "exception": false,
     "start_time": "2022-07-19T09:51:53.819689",
     "status": "completed"
    },
    "tags": []
   },
   "outputs": [],
   "source": [
    "X_test['default'] = X_test['default'].map({'yes': 1, 'no': 0})\n",
    "X_test['contact'] = X_test['contact'].map({'telephone': 1, 'cellular': 0})"
   ]
  },
  {
   "cell_type": "markdown",
   "id": "6562d698",
   "metadata": {
    "papermill": {
     "duration": 0.037574,
     "end_time": "2022-07-19T09:51:53.949567",
     "exception": false,
     "start_time": "2022-07-19T09:51:53.911993",
     "status": "completed"
    },
    "tags": []
   },
   "source": [
    "#### One Hot Encoding -  Nominal Features - train data"
   ]
  },
  {
   "cell_type": "code",
   "execution_count": 44,
   "id": "c1a0a3db",
   "metadata": {
    "execution": {
     "iopub.execute_input": "2022-07-19T09:51:54.027381Z",
     "iopub.status.busy": "2022-07-19T09:51:54.026678Z",
     "iopub.status.idle": "2022-07-19T09:51:54.073176Z",
     "shell.execute_reply": "2022-07-19T09:51:54.072495Z"
    },
    "papermill": {
     "duration": 0.088053,
     "end_time": "2022-07-19T09:51:54.075460",
     "exception": false,
     "start_time": "2022-07-19T09:51:53.987407",
     "status": "completed"
    },
    "tags": []
   },
   "outputs": [
    {
     "data": {
      "text/html": [
       "<div>\n",
       "<style scoped>\n",
       "    .dataframe tbody tr th:only-of-type {\n",
       "        vertical-align: middle;\n",
       "    }\n",
       "\n",
       "    .dataframe tbody tr th {\n",
       "        vertical-align: top;\n",
       "    }\n",
       "\n",
       "    .dataframe thead th {\n",
       "        text-align: right;\n",
       "    }\n",
       "</style>\n",
       "<table border=\"1\" class=\"dataframe\">\n",
       "  <thead>\n",
       "    <tr style=\"text-align: right;\">\n",
       "      <th></th>\n",
       "      <th>age</th>\n",
       "      <th>default</th>\n",
       "      <th>contact</th>\n",
       "      <th>duration</th>\n",
       "      <th>campaign</th>\n",
       "      <th>previous</th>\n",
       "      <th>cons_conf_idx</th>\n",
       "      <th>euribor3m</th>\n",
       "      <th>nr_employed</th>\n",
       "      <th>job_admin.</th>\n",
       "      <th>...</th>\n",
       "      <th>education_basic.4y</th>\n",
       "      <th>education_basic.6y</th>\n",
       "      <th>education_basic.9y</th>\n",
       "      <th>education_high.school</th>\n",
       "      <th>education_illiterate</th>\n",
       "      <th>education_professional.course</th>\n",
       "      <th>education_university.degree</th>\n",
       "      <th>poutcome_failure</th>\n",
       "      <th>poutcome_nonexistent</th>\n",
       "      <th>poutcome_success</th>\n",
       "    </tr>\n",
       "  </thead>\n",
       "  <tbody>\n",
       "    <tr>\n",
       "      <th>8505</th>\n",
       "      <td>43</td>\n",
       "      <td>0</td>\n",
       "      <td>1</td>\n",
       "      <td>28</td>\n",
       "      <td>4</td>\n",
       "      <td>0</td>\n",
       "      <td>-41.8</td>\n",
       "      <td>4.864</td>\n",
       "      <td>5228.1</td>\n",
       "      <td>0</td>\n",
       "      <td>...</td>\n",
       "      <td>1</td>\n",
       "      <td>0</td>\n",
       "      <td>0</td>\n",
       "      <td>0</td>\n",
       "      <td>0</td>\n",
       "      <td>0</td>\n",
       "      <td>0</td>\n",
       "      <td>0</td>\n",
       "      <td>1</td>\n",
       "      <td>0</td>\n",
       "    </tr>\n",
       "    <tr>\n",
       "      <th>28321</th>\n",
       "      <td>35</td>\n",
       "      <td>0</td>\n",
       "      <td>0</td>\n",
       "      <td>1190</td>\n",
       "      <td>1</td>\n",
       "      <td>0</td>\n",
       "      <td>-47.1</td>\n",
       "      <td>1.445</td>\n",
       "      <td>5099.1</td>\n",
       "      <td>1</td>\n",
       "      <td>...</td>\n",
       "      <td>0</td>\n",
       "      <td>0</td>\n",
       "      <td>0</td>\n",
       "      <td>1</td>\n",
       "      <td>0</td>\n",
       "      <td>0</td>\n",
       "      <td>0</td>\n",
       "      <td>0</td>\n",
       "      <td>1</td>\n",
       "      <td>0</td>\n",
       "    </tr>\n",
       "    <tr>\n",
       "      <th>2582</th>\n",
       "      <td>34</td>\n",
       "      <td>0</td>\n",
       "      <td>1</td>\n",
       "      <td>230</td>\n",
       "      <td>3</td>\n",
       "      <td>0</td>\n",
       "      <td>-36.4</td>\n",
       "      <td>4.856</td>\n",
       "      <td>5191.0</td>\n",
       "      <td>0</td>\n",
       "      <td>...</td>\n",
       "      <td>0</td>\n",
       "      <td>0</td>\n",
       "      <td>0</td>\n",
       "      <td>0</td>\n",
       "      <td>0</td>\n",
       "      <td>0</td>\n",
       "      <td>1</td>\n",
       "      <td>0</td>\n",
       "      <td>1</td>\n",
       "      <td>0</td>\n",
       "    </tr>\n",
       "    <tr>\n",
       "      <th>9407</th>\n",
       "      <td>49</td>\n",
       "      <td>0</td>\n",
       "      <td>1</td>\n",
       "      <td>190</td>\n",
       "      <td>4</td>\n",
       "      <td>0</td>\n",
       "      <td>-41.8</td>\n",
       "      <td>4.967</td>\n",
       "      <td>5228.1</td>\n",
       "      <td>0</td>\n",
       "      <td>...</td>\n",
       "      <td>1</td>\n",
       "      <td>0</td>\n",
       "      <td>0</td>\n",
       "      <td>0</td>\n",
       "      <td>0</td>\n",
       "      <td>0</td>\n",
       "      <td>0</td>\n",
       "      <td>0</td>\n",
       "      <td>1</td>\n",
       "      <td>0</td>\n",
       "    </tr>\n",
       "    <tr>\n",
       "      <th>33934</th>\n",
       "      <td>52</td>\n",
       "      <td>0</td>\n",
       "      <td>0</td>\n",
       "      <td>38</td>\n",
       "      <td>2</td>\n",
       "      <td>1</td>\n",
       "      <td>-46.2</td>\n",
       "      <td>1.281</td>\n",
       "      <td>5099.1</td>\n",
       "      <td>1</td>\n",
       "      <td>...</td>\n",
       "      <td>0</td>\n",
       "      <td>0</td>\n",
       "      <td>1</td>\n",
       "      <td>0</td>\n",
       "      <td>0</td>\n",
       "      <td>0</td>\n",
       "      <td>0</td>\n",
       "      <td>1</td>\n",
       "      <td>0</td>\n",
       "      <td>0</td>\n",
       "    </tr>\n",
       "  </tbody>\n",
       "</table>\n",
       "<p>5 rows × 39 columns</p>\n",
       "</div>"
      ],
      "text/plain": [
       "       age  default  contact  duration  campaign  previous  cons_conf_idx  \\\n",
       "8505    43        0        1        28         4         0          -41.8   \n",
       "28321   35        0        0      1190         1         0          -47.1   \n",
       "2582    34        0        1       230         3         0          -36.4   \n",
       "9407    49        0        1       190         4         0          -41.8   \n",
       "33934   52        0        0        38         2         1          -46.2   \n",
       "\n",
       "       euribor3m  nr_employed  job_admin.  ...  education_basic.4y  \\\n",
       "8505       4.864       5228.1           0  ...                   1   \n",
       "28321      1.445       5099.1           1  ...                   0   \n",
       "2582       4.856       5191.0           0  ...                   0   \n",
       "9407       4.967       5228.1           0  ...                   1   \n",
       "33934      1.281       5099.1           1  ...                   0   \n",
       "\n",
       "       education_basic.6y  education_basic.9y  education_high.school  \\\n",
       "8505                    0                   0                      0   \n",
       "28321                   0                   0                      1   \n",
       "2582                    0                   0                      0   \n",
       "9407                    0                   0                      0   \n",
       "33934                   0                   1                      0   \n",
       "\n",
       "       education_illiterate  education_professional.course  \\\n",
       "8505                      0                              0   \n",
       "28321                     0                              0   \n",
       "2582                      0                              0   \n",
       "9407                      0                              0   \n",
       "33934                     0                              0   \n",
       "\n",
       "       education_university.degree  poutcome_failure  poutcome_nonexistent  \\\n",
       "8505                             0                 0                     1   \n",
       "28321                            0                 0                     1   \n",
       "2582                             1                 0                     1   \n",
       "9407                             0                 0                     1   \n",
       "33934                            0                 1                     0   \n",
       "\n",
       "       poutcome_success  \n",
       "8505                  0  \n",
       "28321                 0  \n",
       "2582                  0  \n",
       "9407                  0  \n",
       "33934                 0  \n",
       "\n",
       "[5 rows x 39 columns]"
      ]
     },
     "execution_count": 44,
     "metadata": {},
     "output_type": "execute_result"
    }
   ],
   "source": [
    "X_train = pd.get_dummies(X_train, columns=['job', 'marital', 'day_of_week', 'education', 'poutcome'])\n",
    "\n",
    "X_train.head()\n"
   ]
  },
  {
   "cell_type": "markdown",
   "id": "e74985a9",
   "metadata": {
    "papermill": {
     "duration": 0.038783,
     "end_time": "2022-07-19T09:51:54.153260",
     "exception": false,
     "start_time": "2022-07-19T09:51:54.114477",
     "status": "completed"
    },
    "tags": []
   },
   "source": [
    "#### Nominal Features (To OneHot Encode) - test data"
   ]
  },
  {
   "cell_type": "code",
   "execution_count": 45,
   "id": "b3b0fdf6",
   "metadata": {
    "execution": {
     "iopub.execute_input": "2022-07-19T09:51:54.233615Z",
     "iopub.status.busy": "2022-07-19T09:51:54.232837Z",
     "iopub.status.idle": "2022-07-19T09:51:54.268388Z",
     "shell.execute_reply": "2022-07-19T09:51:54.267708Z"
    },
    "papermill": {
     "duration": 0.07731,
     "end_time": "2022-07-19T09:51:54.270235",
     "exception": false,
     "start_time": "2022-07-19T09:51:54.192925",
     "status": "completed"
    },
    "tags": []
   },
   "outputs": [
    {
     "data": {
      "text/html": [
       "<div>\n",
       "<style scoped>\n",
       "    .dataframe tbody tr th:only-of-type {\n",
       "        vertical-align: middle;\n",
       "    }\n",
       "\n",
       "    .dataframe tbody tr th {\n",
       "        vertical-align: top;\n",
       "    }\n",
       "\n",
       "    .dataframe thead th {\n",
       "        text-align: right;\n",
       "    }\n",
       "</style>\n",
       "<table border=\"1\" class=\"dataframe\">\n",
       "  <thead>\n",
       "    <tr style=\"text-align: right;\">\n",
       "      <th></th>\n",
       "      <th>age</th>\n",
       "      <th>default</th>\n",
       "      <th>contact</th>\n",
       "      <th>duration</th>\n",
       "      <th>campaign</th>\n",
       "      <th>previous</th>\n",
       "      <th>cons_conf_idx</th>\n",
       "      <th>euribor3m</th>\n",
       "      <th>nr_employed</th>\n",
       "      <th>job_admin.</th>\n",
       "      <th>...</th>\n",
       "      <th>education_basic.4y</th>\n",
       "      <th>education_basic.6y</th>\n",
       "      <th>education_basic.9y</th>\n",
       "      <th>education_high.school</th>\n",
       "      <th>education_illiterate</th>\n",
       "      <th>education_professional.course</th>\n",
       "      <th>education_university.degree</th>\n",
       "      <th>poutcome_failure</th>\n",
       "      <th>poutcome_nonexistent</th>\n",
       "      <th>poutcome_success</th>\n",
       "    </tr>\n",
       "  </thead>\n",
       "  <tbody>\n",
       "    <tr>\n",
       "      <th>32884</th>\n",
       "      <td>57</td>\n",
       "      <td>0</td>\n",
       "      <td>0</td>\n",
       "      <td>371</td>\n",
       "      <td>1</td>\n",
       "      <td>1</td>\n",
       "      <td>-46.2</td>\n",
       "      <td>1.299</td>\n",
       "      <td>5099.1</td>\n",
       "      <td>0</td>\n",
       "      <td>...</td>\n",
       "      <td>0</td>\n",
       "      <td>0</td>\n",
       "      <td>0</td>\n",
       "      <td>1</td>\n",
       "      <td>0</td>\n",
       "      <td>0</td>\n",
       "      <td>0</td>\n",
       "      <td>1</td>\n",
       "      <td>0</td>\n",
       "      <td>0</td>\n",
       "    </tr>\n",
       "    <tr>\n",
       "      <th>3169</th>\n",
       "      <td>55</td>\n",
       "      <td>0</td>\n",
       "      <td>1</td>\n",
       "      <td>285</td>\n",
       "      <td>2</td>\n",
       "      <td>0</td>\n",
       "      <td>-36.4</td>\n",
       "      <td>4.860</td>\n",
       "      <td>5191.0</td>\n",
       "      <td>1</td>\n",
       "      <td>...</td>\n",
       "      <td>0</td>\n",
       "      <td>0</td>\n",
       "      <td>0</td>\n",
       "      <td>0</td>\n",
       "      <td>0</td>\n",
       "      <td>0</td>\n",
       "      <td>1</td>\n",
       "      <td>0</td>\n",
       "      <td>1</td>\n",
       "      <td>0</td>\n",
       "    </tr>\n",
       "    <tr>\n",
       "      <th>32206</th>\n",
       "      <td>33</td>\n",
       "      <td>0</td>\n",
       "      <td>0</td>\n",
       "      <td>52</td>\n",
       "      <td>1</td>\n",
       "      <td>1</td>\n",
       "      <td>-46.2</td>\n",
       "      <td>1.313</td>\n",
       "      <td>5099.1</td>\n",
       "      <td>0</td>\n",
       "      <td>...</td>\n",
       "      <td>0</td>\n",
       "      <td>0</td>\n",
       "      <td>1</td>\n",
       "      <td>0</td>\n",
       "      <td>0</td>\n",
       "      <td>0</td>\n",
       "      <td>0</td>\n",
       "      <td>1</td>\n",
       "      <td>0</td>\n",
       "      <td>0</td>\n",
       "    </tr>\n",
       "    <tr>\n",
       "      <th>9403</th>\n",
       "      <td>36</td>\n",
       "      <td>0</td>\n",
       "      <td>1</td>\n",
       "      <td>355</td>\n",
       "      <td>4</td>\n",
       "      <td>0</td>\n",
       "      <td>-41.8</td>\n",
       "      <td>4.967</td>\n",
       "      <td>5228.1</td>\n",
       "      <td>1</td>\n",
       "      <td>...</td>\n",
       "      <td>0</td>\n",
       "      <td>0</td>\n",
       "      <td>0</td>\n",
       "      <td>1</td>\n",
       "      <td>0</td>\n",
       "      <td>0</td>\n",
       "      <td>0</td>\n",
       "      <td>0</td>\n",
       "      <td>1</td>\n",
       "      <td>0</td>\n",
       "    </tr>\n",
       "    <tr>\n",
       "      <th>14020</th>\n",
       "      <td>27</td>\n",
       "      <td>0</td>\n",
       "      <td>0</td>\n",
       "      <td>189</td>\n",
       "      <td>2</td>\n",
       "      <td>0</td>\n",
       "      <td>-42.7</td>\n",
       "      <td>4.963</td>\n",
       "      <td>5228.1</td>\n",
       "      <td>0</td>\n",
       "      <td>...</td>\n",
       "      <td>0</td>\n",
       "      <td>0</td>\n",
       "      <td>0</td>\n",
       "      <td>1</td>\n",
       "      <td>0</td>\n",
       "      <td>0</td>\n",
       "      <td>0</td>\n",
       "      <td>0</td>\n",
       "      <td>1</td>\n",
       "      <td>0</td>\n",
       "    </tr>\n",
       "  </tbody>\n",
       "</table>\n",
       "<p>5 rows × 39 columns</p>\n",
       "</div>"
      ],
      "text/plain": [
       "       age  default  contact  duration  campaign  previous  cons_conf_idx  \\\n",
       "32884   57        0        0       371         1         1          -46.2   \n",
       "3169    55        0        1       285         2         0          -36.4   \n",
       "32206   33        0        0        52         1         1          -46.2   \n",
       "9403    36        0        1       355         4         0          -41.8   \n",
       "14020   27        0        0       189         2         0          -42.7   \n",
       "\n",
       "       euribor3m  nr_employed  job_admin.  ...  education_basic.4y  \\\n",
       "32884      1.299       5099.1           0  ...                   0   \n",
       "3169       4.860       5191.0           1  ...                   0   \n",
       "32206      1.313       5099.1           0  ...                   0   \n",
       "9403       4.967       5228.1           1  ...                   0   \n",
       "14020      4.963       5228.1           0  ...                   0   \n",
       "\n",
       "       education_basic.6y  education_basic.9y  education_high.school  \\\n",
       "32884                   0                   0                      1   \n",
       "3169                    0                   0                      0   \n",
       "32206                   0                   1                      0   \n",
       "9403                    0                   0                      1   \n",
       "14020                   0                   0                      1   \n",
       "\n",
       "       education_illiterate  education_professional.course  \\\n",
       "32884                     0                              0   \n",
       "3169                      0                              0   \n",
       "32206                     0                              0   \n",
       "9403                      0                              0   \n",
       "14020                     0                              0   \n",
       "\n",
       "       education_university.degree  poutcome_failure  poutcome_nonexistent  \\\n",
       "32884                            0                 1                     0   \n",
       "3169                             1                 0                     1   \n",
       "32206                            0                 1                     0   \n",
       "9403                             0                 0                     1   \n",
       "14020                            0                 0                     1   \n",
       "\n",
       "       poutcome_success  \n",
       "32884                 0  \n",
       "3169                  0  \n",
       "32206                 0  \n",
       "9403                  0  \n",
       "14020                 0  \n",
       "\n",
       "[5 rows x 39 columns]"
      ]
     },
     "execution_count": 45,
     "metadata": {},
     "output_type": "execute_result"
    }
   ],
   "source": [
    "X_test = pd.get_dummies(X_test, columns=['job', 'marital', 'day_of_week','education', 'poutcome'])\n",
    "\n",
    "\n",
    "X_test.head()"
   ]
  },
  {
   "cell_type": "code",
   "execution_count": 46,
   "id": "71cb7067",
   "metadata": {
    "execution": {
     "iopub.execute_input": "2022-07-19T09:51:54.349616Z",
     "iopub.status.busy": "2022-07-19T09:51:54.348982Z",
     "iopub.status.idle": "2022-07-19T09:51:54.355736Z",
     "shell.execute_reply": "2022-07-19T09:51:54.354979Z"
    },
    "papermill": {
     "duration": 0.048655,
     "end_time": "2022-07-19T09:51:54.357662",
     "exception": false,
     "start_time": "2022-07-19T09:51:54.309007",
     "status": "completed"
    },
    "tags": []
   },
   "outputs": [
    {
     "data": {
      "text/plain": [
       "True"
      ]
     },
     "execution_count": 46,
     "metadata": {},
     "output_type": "execute_result"
    }
   ],
   "source": [
    "# checking the no of columns of both train and test data are equal or not ?\n",
    "(X_train.columns == X_test.columns).all()"
   ]
  },
  {
   "cell_type": "markdown",
   "id": "cb4ae53c",
   "metadata": {
    "papermill": {
     "duration": 0.038168,
     "end_time": "2022-07-19T09:51:54.434422",
     "exception": false,
     "start_time": "2022-07-19T09:51:54.396254",
     "status": "completed"
    },
    "tags": []
   },
   "source": [
    "## 5. Feature Importance\n",
    "\n",
    "Let's check the feature importances and prune our features to make our model perform well."
   ]
  },
  {
   "cell_type": "code",
   "execution_count": 47,
   "id": "80fca553",
   "metadata": {
    "execution": {
     "iopub.execute_input": "2022-07-19T09:51:54.513533Z",
     "iopub.status.busy": "2022-07-19T09:51:54.512838Z",
     "iopub.status.idle": "2022-07-19T09:51:57.775413Z",
     "shell.execute_reply": "2022-07-19T09:51:57.774418Z"
    },
    "papermill": {
     "duration": 3.304979,
     "end_time": "2022-07-19T09:51:57.778010",
     "exception": false,
     "start_time": "2022-07-19T09:51:54.473031",
     "status": "completed"
    },
    "tags": []
   },
   "outputs": [
    {
     "data": {
      "image/png": "[encoded data removed]",
      "text/plain": [
       "<Figure size 432x288 with 1 Axes>"
      ]
     },
     "metadata": {
      "needs_background": "light"
     },
     "output_type": "display_data"
    }
   ],
   "source": [
    "from sklearn.ensemble import ExtraTreesClassifier\n",
    "\n",
    "model = ExtraTreesClassifier()\n",
    "model.fit(X_train,y_train)\n",
    "\n",
    "ExtraTreesClassifier()\n",
    "\n",
    "feat_importances = pd.Series(model.feature_importances_, index=X_train.columns)\n",
    "feat_importances.nlargest(25).plot(kind='barh')\n",
    "plt.show()"
   ]
  },
  {
   "cell_type": "markdown",
   "id": "c811bd24",
   "metadata": {
    "papermill": {
     "duration": 0.06399,
     "end_time": "2022-07-19T09:51:57.881909",
     "exception": false,
     "start_time": "2022-07-19T09:51:57.817919",
     "status": "completed"
    },
    "tags": []
   },
   "source": [
    "## 6. Standardizing the Data "
   ]
  },
  {
   "cell_type": "code",
   "execution_count": 48,
   "id": "fd7daea2",
   "metadata": {
    "execution": {
     "iopub.execute_input": "2022-07-19T09:51:57.963909Z",
     "iopub.status.busy": "2022-07-19T09:51:57.963013Z",
     "iopub.status.idle": "2022-07-19T09:51:58.000978Z",
     "shell.execute_reply": "2022-07-19T09:51:58.000031Z"
    },
    "papermill": {
     "duration": 0.081851,
     "end_time": "2022-07-19T09:51:58.003389",
     "exception": false,
     "start_time": "2022-07-19T09:51:57.921538",
     "status": "completed"
    },
    "tags": []
   },
   "outputs": [],
   "source": [
    "from sklearn.preprocessing import StandardScaler\n",
    "\n",
    "scaler = StandardScaler()\n",
    "\n",
    "X_train=scaler.fit_transform(X_train)\n",
    "X_test = scaler.transform(X_test)"
   ]
  },
  {
   "cell_type": "markdown",
   "id": "2b4e46de",
   "metadata": {
    "papermill": {
     "duration": 0.039478,
     "end_time": "2022-07-19T09:51:58.084428",
     "exception": false,
     "start_time": "2022-07-19T09:51:58.044950",
     "status": "completed"
    },
    "tags": []
   },
   "source": [
    "## 7. Model Building"
   ]
  },
  {
   "cell_type": "markdown",
   "id": "2c8e08b9",
   "metadata": {
    "papermill": {
     "duration": 0.039975,
     "end_time": "2022-07-19T09:51:58.164046",
     "exception": false,
     "start_time": "2022-07-19T09:51:58.124071",
     "status": "completed"
    },
    "tags": []
   },
   "source": [
    "### 7.1. Logistic Regression Model implementation"
   ]
  },
  {
   "cell_type": "code",
   "execution_count": 49,
   "id": "a765c993",
   "metadata": {
    "execution": {
     "iopub.execute_input": "2022-07-19T09:51:58.245612Z",
     "iopub.status.busy": "2022-07-19T09:51:58.244962Z",
     "iopub.status.idle": "2022-07-19T09:51:58.414507Z",
     "shell.execute_reply": "2022-07-19T09:51:58.413430Z"
    },
    "papermill": {
     "duration": 0.213919,
     "end_time": "2022-07-19T09:51:58.417755",
     "exception": false,
     "start_time": "2022-07-19T09:51:58.203836",
     "status": "completed"
    },
    "tags": []
   },
   "outputs": [
    {
     "name": "stdout",
     "output_type": "stream",
     "text": [
      "0.8526447436180387\n"
     ]
    }
   ],
   "source": [
    "lr = LogisticRegression(class_weight=\"balanced\")\n",
    "\n",
    "lr_model = lr.fit(X_train, y_train)\n",
    "\n",
    "print(lr.score(X_test, y_test))"
   ]
  },
  {
   "cell_type": "markdown",
   "id": "c417ee2f",
   "metadata": {
    "papermill": {
     "duration": 0.058096,
     "end_time": "2022-07-19T09:51:58.549737",
     "exception": false,
     "start_time": "2022-07-19T09:51:58.491641",
     "status": "completed"
    },
    "tags": []
   },
   "source": [
    "#### Logistic Regression Model Performance\n"
   ]
  },
  {
   "cell_type": "code",
   "execution_count": 50,
   "id": "3607d28d",
   "metadata": {
    "execution": {
     "iopub.execute_input": "2022-07-19T09:51:58.630256Z",
     "iopub.status.busy": "2022-07-19T09:51:58.629880Z",
     "iopub.status.idle": "2022-07-19T09:51:58.882189Z",
     "shell.execute_reply": "2022-07-19T09:51:58.881491Z"
    },
    "papermill": {
     "duration": 0.294686,
     "end_time": "2022-07-19T09:51:58.884107",
     "exception": false,
     "start_time": "2022-07-19T09:51:58.589421",
     "status": "completed"
    },
    "tags": []
   },
   "outputs": [
    {
     "data": {
      "image/png": "[encoded data removed]",
      "text/plain": [
       "<Figure size 432x288 with 2 Axes>"
      ]
     },
     "metadata": {
      "needs_background": "light"
     },
     "output_type": "display_data"
    }
   ],
   "source": [
    "y_pred = lr_model.predict(X_test)\n",
    "plot_confusion_matrix(lr_model, X_test, y_test)\n",
    "plt.title('Confusion Matrix\\n')\n",
    "plt.show()"
   ]
  },
  {
   "cell_type": "code",
   "execution_count": 51,
   "id": "2d5e67a2",
   "metadata": {
    "execution": {
     "iopub.execute_input": "2022-07-19T09:51:58.967520Z",
     "iopub.status.busy": "2022-07-19T09:51:58.966887Z",
     "iopub.status.idle": "2022-07-19T09:51:58.993446Z",
     "shell.execute_reply": "2022-07-19T09:51:58.992498Z"
    },
    "papermill": {
     "duration": 0.071383,
     "end_time": "2022-07-19T09:51:58.996744",
     "exception": false,
     "start_time": "2022-07-19T09:51:58.925361",
     "status": "completed"
    },
    "tags": []
   },
   "outputs": [
    {
     "name": "stdout",
     "output_type": "stream",
     "text": [
      "Classification Report:\n",
      "\n",
      "               precision    recall  f1-score   support\n",
      "\n",
      "           0       0.98      0.85      0.91     12056\n",
      "           1       0.43      0.87      0.57      1537\n",
      "\n",
      "    accuracy                           0.85     13593\n",
      "   macro avg       0.70      0.86      0.74     13593\n",
      "weighted avg       0.92      0.85      0.87     13593\n",
      "\n"
     ]
    }
   ],
   "source": [
    "print(\"Classification Report:\\n\\n\", classification_report(y_test, y_pred))\n"
   ]
  },
  {
   "cell_type": "code",
   "execution_count": 52,
   "id": "5bf72b65",
   "metadata": {
    "execution": {
     "iopub.execute_input": "2022-07-19T09:51:59.079647Z",
     "iopub.status.busy": "2022-07-19T09:51:59.079014Z",
     "iopub.status.idle": "2022-07-19T09:51:59.294155Z",
     "shell.execute_reply": "2022-07-19T09:51:59.293212Z"
    },
    "papermill": {
     "duration": 0.25859,
     "end_time": "2022-07-19T09:51:59.296320",
     "exception": false,
     "start_time": "2022-07-19T09:51:59.037730",
     "status": "completed"
    },
    "tags": []
   },
   "outputs": [
    {
     "data": {
      "image/png": "[encoded data removed]",
      "text/plain": [
       "<Figure size 432x288 with 1 Axes>"
      ]
     },
     "metadata": {
      "needs_background": "light"
     },
     "output_type": "display_data"
    }
   ],
   "source": [
    "plot_roc_curve(lr_model, X_test, y_test)\n",
    "plt.title('ROC-AUC\\n')\n",
    "plt.show()"
   ]
  },
  {
   "cell_type": "markdown",
   "id": "16bd1686",
   "metadata": {
    "papermill": {
     "duration": 0.04098,
     "end_time": "2022-07-19T09:51:59.377717",
     "exception": false,
     "start_time": "2022-07-19T09:51:59.336737",
     "status": "completed"
    },
    "tags": []
   },
   "source": [
    "### 7.2. RandomForest Algorithm implemetation\n"
   ]
  },
  {
   "cell_type": "code",
   "execution_count": 53,
   "id": "806f4366",
   "metadata": {
    "execution": {
     "iopub.execute_input": "2022-07-19T09:51:59.460507Z",
     "iopub.status.busy": "2022-07-19T09:51:59.460036Z",
     "iopub.status.idle": "2022-07-19T09:52:02.275218Z",
     "shell.execute_reply": "2022-07-19T09:52:02.274251Z"
    },
    "papermill": {
     "duration": 2.859371,
     "end_time": "2022-07-19T09:52:02.277398",
     "exception": false,
     "start_time": "2022-07-19T09:51:59.418027",
     "status": "completed"
    },
    "tags": []
   },
   "outputs": [
    {
     "data": {
      "text/plain": [
       "0.9105421908335173"
      ]
     },
     "execution_count": 53,
     "metadata": {},
     "output_type": "execute_result"
    }
   ],
   "source": [
    "rf = RandomForestClassifier(class_weight=\"balanced\")\n",
    "rf_model = rf.fit(X_train, y_train)\n",
    "rf_model.score(X_test, y_test)\n"
   ]
  },
  {
   "cell_type": "markdown",
   "id": "216e730c",
   "metadata": {
    "papermill": {
     "duration": 0.040493,
     "end_time": "2022-07-19T09:52:02.359237",
     "exception": false,
     "start_time": "2022-07-19T09:52:02.318744",
     "status": "completed"
    },
    "tags": []
   },
   "source": [
    "#### Tuning the Hyperparameters of RandomForest Model\n"
   ]
  },
  {
   "cell_type": "code",
   "execution_count": 54,
   "id": "74ef59de",
   "metadata": {
    "execution": {
     "iopub.execute_input": "2022-07-19T09:52:02.442923Z",
     "iopub.status.busy": "2022-07-19T09:52:02.442306Z",
     "iopub.status.idle": "2022-07-19T09:52:02.447639Z",
     "shell.execute_reply": "2022-07-19T09:52:02.446949Z"
    },
    "papermill": {
     "duration": 0.049352,
     "end_time": "2022-07-19T09:52:02.449459",
     "exception": false,
     "start_time": "2022-07-19T09:52:02.400107",
     "status": "completed"
    },
    "tags": []
   },
   "outputs": [],
   "source": [
    "rf_params = {\n",
    "    'n_estimators' : [50,100,130,150],\n",
    "    'max_depth' : [4,5,1,2,None],\n",
    "    'min_samples_split' : [2,3,4,5],\n",
    "    'min_samples_leaf' : [1,4,10,20],\n",
    "    'max_leaf_nodes' : [2,5,10,None]\n",
    "    \n",
    "}"
   ]
  },
  {
   "cell_type": "code",
   "execution_count": 55,
   "id": "3d67e84e",
   "metadata": {
    "execution": {
     "iopub.execute_input": "2022-07-19T09:52:02.534298Z",
     "iopub.status.busy": "2022-07-19T09:52:02.533644Z",
     "iopub.status.idle": "2022-07-19T09:52:02.537821Z",
     "shell.execute_reply": "2022-07-19T09:52:02.537091Z"
    },
    "papermill": {
     "duration": 0.048579,
     "end_time": "2022-07-19T09:52:02.539896",
     "exception": false,
     "start_time": "2022-07-19T09:52:02.491317",
     "status": "completed"
    },
    "tags": []
   },
   "outputs": [],
   "source": [
    "rf_rs = RandomizedSearchCV(rf, rf_params, cv=5, n_iter=5)"
   ]
  },
  {
   "cell_type": "code",
   "execution_count": 56,
   "id": "e88f7ffc",
   "metadata": {
    "execution": {
     "iopub.execute_input": "2022-07-19T09:52:02.623754Z",
     "iopub.status.busy": "2022-07-19T09:52:02.623108Z",
     "iopub.status.idle": "2022-07-19T09:52:25.321970Z",
     "shell.execute_reply": "2022-07-19T09:52:25.320818Z"
    },
    "papermill": {
     "duration": 22.743297,
     "end_time": "2022-07-19T09:52:25.324336",
     "exception": false,
     "start_time": "2022-07-19T09:52:02.581039",
     "status": "completed"
    },
    "tags": []
   },
   "outputs": [],
   "source": [
    "rf_best_model = rf_rs.fit(X_train, y_train)"
   ]
  },
  {
   "cell_type": "code",
   "execution_count": 57,
   "id": "6b9fa489",
   "metadata": {
    "execution": {
     "iopub.execute_input": "2022-07-19T09:52:25.407718Z",
     "iopub.status.busy": "2022-07-19T09:52:25.406999Z",
     "iopub.status.idle": "2022-07-19T09:52:25.469784Z",
     "shell.execute_reply": "2022-07-19T09:52:25.468726Z"
    },
    "papermill": {
     "duration": 0.106876,
     "end_time": "2022-07-19T09:52:25.471763",
     "exception": false,
     "start_time": "2022-07-19T09:52:25.364887",
     "status": "completed"
    },
    "tags": []
   },
   "outputs": [
    {
     "data": {
      "text/plain": [
       "0.8396233355403516"
      ]
     },
     "execution_count": 57,
     "metadata": {},
     "output_type": "execute_result"
    }
   ],
   "source": [
    "rf_best_model.score(X_test, y_test)"
   ]
  },
  {
   "cell_type": "code",
   "execution_count": 58,
   "id": "49ad0bec",
   "metadata": {
    "execution": {
     "iopub.execute_input": "2022-07-19T09:52:25.554692Z",
     "iopub.status.busy": "2022-07-19T09:52:25.554003Z",
     "iopub.status.idle": "2022-07-19T09:52:25.560725Z",
     "shell.execute_reply": "2022-07-19T09:52:25.559733Z"
    },
    "papermill": {
     "duration": 0.050655,
     "end_time": "2022-07-19T09:52:25.562586",
     "exception": false,
     "start_time": "2022-07-19T09:52:25.511931",
     "status": "completed"
    },
    "tags": []
   },
   "outputs": [
    {
     "data": {
      "text/plain": [
       "{'n_estimators': 50,\n",
       " 'min_samples_split': 4,\n",
       " 'min_samples_leaf': 20,\n",
       " 'max_leaf_nodes': None,\n",
       " 'max_depth': 4}"
      ]
     },
     "execution_count": 58,
     "metadata": {},
     "output_type": "execute_result"
    }
   ],
   "source": [
    "rf_best_model.best_params_"
   ]
  },
  {
   "cell_type": "code",
   "execution_count": 59,
   "id": "e3c1415f",
   "metadata": {
    "execution": {
     "iopub.execute_input": "2022-07-19T09:52:25.645677Z",
     "iopub.status.busy": "2022-07-19T09:52:25.645270Z",
     "iopub.status.idle": "2022-07-19T09:52:25.653840Z",
     "shell.execute_reply": "2022-07-19T09:52:25.652936Z"
    },
    "papermill": {
     "duration": 0.052857,
     "end_time": "2022-07-19T09:52:25.655960",
     "exception": false,
     "start_time": "2022-07-19T09:52:25.603103",
     "status": "completed"
    },
    "tags": []
   },
   "outputs": [
    {
     "data": {
      "text/plain": [
       "RandomForestClassifier(class_weight='balanced', max_depth=4,\n",
       "                       min_samples_leaf=20, min_samples_split=4,\n",
       "                       n_estimators=50)"
      ]
     },
     "execution_count": 59,
     "metadata": {},
     "output_type": "execute_result"
    }
   ],
   "source": [
    "rf_best_model.best_estimator_"
   ]
  },
  {
   "cell_type": "code",
   "execution_count": 60,
   "id": "21a3385b",
   "metadata": {
    "execution": {
     "iopub.execute_input": "2022-07-19T09:52:25.739607Z",
     "iopub.status.busy": "2022-07-19T09:52:25.738972Z",
     "iopub.status.idle": "2022-07-19T09:52:25.797596Z",
     "shell.execute_reply": "2022-07-19T09:52:25.796555Z"
    },
    "papermill": {
     "duration": 0.102909,
     "end_time": "2022-07-19T09:52:25.800075",
     "exception": false,
     "start_time": "2022-07-19T09:52:25.697166",
     "status": "completed"
    },
    "tags": []
   },
   "outputs": [],
   "source": [
    "y_pred = rf_best_model.predict(X_test)"
   ]
  },
  {
   "cell_type": "markdown",
   "id": "7f2b4ba0",
   "metadata": {
    "papermill": {
     "duration": 0.042816,
     "end_time": "2022-07-19T09:52:25.884452",
     "exception": false,
     "start_time": "2022-07-19T09:52:25.841636",
     "status": "completed"
    },
    "tags": []
   },
   "source": [
    "#### Random Forest Model Performance\n",
    "\n"
   ]
  },
  {
   "cell_type": "code",
   "execution_count": 61,
   "id": "7732c367",
   "metadata": {
    "execution": {
     "iopub.execute_input": "2022-07-19T09:52:25.969028Z",
     "iopub.status.busy": "2022-07-19T09:52:25.968643Z",
     "iopub.status.idle": "2022-07-19T09:52:26.236884Z",
     "shell.execute_reply": "2022-07-19T09:52:26.236155Z"
    },
    "papermill": {
     "duration": 0.313136,
     "end_time": "2022-07-19T09:52:26.238804",
     "exception": false,
     "start_time": "2022-07-19T09:52:25.925668",
     "status": "completed"
    },
    "tags": []
   },
   "outputs": [
    {
     "data": {
      "image/png": "[encoded data removed]",
      "text/plain": [
       "<Figure size 432x288 with 2 Axes>"
      ]
     },
     "metadata": {
      "needs_background": "light"
     },
     "output_type": "display_data"
    }
   ],
   "source": [
    "plot_confusion_matrix(rf_best_model, X_test, y_test)\n",
    "plt.title('Confusion Matrix\\n')\n",
    "plt.show()"
   ]
  },
  {
   "cell_type": "code",
   "execution_count": 62,
   "id": "c80fee83",
   "metadata": {
    "execution": {
     "iopub.execute_input": "2022-07-19T09:52:26.322365Z",
     "iopub.status.busy": "2022-07-19T09:52:26.321815Z",
     "iopub.status.idle": "2022-07-19T09:52:26.348018Z",
     "shell.execute_reply": "2022-07-19T09:52:26.347317Z"
    },
    "papermill": {
     "duration": 0.07056,
     "end_time": "2022-07-19T09:52:26.350284",
     "exception": false,
     "start_time": "2022-07-19T09:52:26.279724",
     "status": "completed"
    },
    "tags": []
   },
   "outputs": [
    {
     "name": "stdout",
     "output_type": "stream",
     "text": [
      "Classification Report:\n",
      "\n",
      "               precision    recall  f1-score   support\n",
      "\n",
      "           0       0.96      0.85      0.90     12056\n",
      "           1       0.39      0.75      0.51      1537\n",
      "\n",
      "    accuracy                           0.84     13593\n",
      "   macro avg       0.68      0.80      0.71     13593\n",
      "weighted avg       0.90      0.84      0.86     13593\n",
      "\n"
     ]
    }
   ],
   "source": [
    "print(\"Classification Report:\\n\\n\", classification_report(y_test, y_pred))\n"
   ]
  },
  {
   "cell_type": "code",
   "execution_count": 63,
   "id": "4c978687",
   "metadata": {
    "execution": {
     "iopub.execute_input": "2022-07-19T09:52:26.434230Z",
     "iopub.status.busy": "2022-07-19T09:52:26.433497Z",
     "iopub.status.idle": "2022-07-19T09:52:26.689569Z",
     "shell.execute_reply": "2022-07-19T09:52:26.688396Z"
    },
    "papermill": {
     "duration": 0.300936,
     "end_time": "2022-07-19T09:52:26.692032",
     "exception": false,
     "start_time": "2022-07-19T09:52:26.391096",
     "status": "completed"
    },
    "tags": []
   },
   "outputs": [
    {
     "data": {
      "image/png": "[encoded data removed]",
      "text/plain": [
       "<Figure size 432x288 with 1 Axes>"
      ]
     },
     "metadata": {
      "needs_background": "light"
     },
     "output_type": "display_data"
    }
   ],
   "source": [
    "plot_roc_curve(rf_best_model, X_test, y_test)\n",
    "plt.title('ROC-AUC\\n')\n",
    "plt.show()\n"
   ]
  },
  {
   "cell_type": "markdown",
   "id": "3c58f249",
   "metadata": {
    "papermill": {
     "duration": 0.041255,
     "end_time": "2022-07-19T09:52:26.774701",
     "exception": false,
     "start_time": "2022-07-19T09:52:26.733446",
     "status": "completed"
    },
    "tags": []
   },
   "source": [
    "### 7.3. AdaBoost Model implementation"
   ]
  },
  {
   "cell_type": "code",
   "execution_count": 64,
   "id": "98b02a7f",
   "metadata": {
    "execution": {
     "iopub.execute_input": "2022-07-19T09:52:26.861922Z",
     "iopub.status.busy": "2022-07-19T09:52:26.861265Z",
     "iopub.status.idle": "2022-07-19T09:52:29.644263Z",
     "shell.execute_reply": "2022-07-19T09:52:29.643556Z"
    },
    "papermill": {
     "duration": 2.828059,
     "end_time": "2022-07-19T09:52:29.646171",
     "exception": false,
     "start_time": "2022-07-19T09:52:26.818112",
     "status": "completed"
    },
    "tags": []
   },
   "outputs": [
    {
     "data": {
      "text/plain": [
       "0.9097329507834915"
      ]
     },
     "execution_count": 64,
     "metadata": {},
     "output_type": "execute_result"
    }
   ],
   "source": [
    "ad = AdaBoostClassifier()\n",
    "ad_model = rf.fit(X_train, y_train)\n",
    "ad_model.score(X_test, y_test)"
   ]
  },
  {
   "cell_type": "markdown",
   "id": "4b1d2833",
   "metadata": {
    "papermill": {
     "duration": 0.041218,
     "end_time": "2022-07-19T09:52:29.728769",
     "exception": false,
     "start_time": "2022-07-19T09:52:29.687551",
     "status": "completed"
    },
    "tags": []
   },
   "source": [
    "#### AdaBoost Model Performance\n"
   ]
  },
  {
   "cell_type": "code",
   "execution_count": 65,
   "id": "49233cea",
   "metadata": {
    "execution": {
     "iopub.execute_input": "2022-07-19T09:52:29.814459Z",
     "iopub.status.busy": "2022-07-19T09:52:29.813869Z",
     "iopub.status.idle": "2022-07-19T09:52:30.065375Z",
     "shell.execute_reply": "2022-07-19T09:52:30.064253Z"
    },
    "papermill": {
     "duration": 0.297542,
     "end_time": "2022-07-19T09:52:30.067703",
     "exception": false,
     "start_time": "2022-07-19T09:52:29.770161",
     "status": "completed"
    },
    "tags": []
   },
   "outputs": [
    {
     "data": {
      "image/png": "[encoded data removed]",
      "text/plain": [
       "<Figure size 432x288 with 2 Axes>"
      ]
     },
     "metadata": {
      "needs_background": "light"
     },
     "output_type": "display_data"
    }
   ],
   "source": [
    "y_pred = lr_model.predict(X_test)\n",
    "plot_confusion_matrix(lr_model, X_test, y_test)\n",
    "plt.title('Confusion Matrix\\n')\n",
    "plt.show()"
   ]
  },
  {
   "cell_type": "code",
   "execution_count": 66,
   "id": "e83fe421",
   "metadata": {
    "execution": {
     "iopub.execute_input": "2022-07-19T09:52:30.153605Z",
     "iopub.status.busy": "2022-07-19T09:52:30.152913Z",
     "iopub.status.idle": "2022-07-19T09:52:30.179793Z",
     "shell.execute_reply": "2022-07-19T09:52:30.178771Z"
    },
    "papermill": {
     "duration": 0.072297,
     "end_time": "2022-07-19T09:52:30.182078",
     "exception": false,
     "start_time": "2022-07-19T09:52:30.109781",
     "status": "completed"
    },
    "tags": []
   },
   "outputs": [
    {
     "name": "stdout",
     "output_type": "stream",
     "text": [
      "Classification Report:\n",
      "\n",
      "               precision    recall  f1-score   support\n",
      "\n",
      "           0       0.98      0.85      0.91     12056\n",
      "           1       0.43      0.87      0.57      1537\n",
      "\n",
      "    accuracy                           0.85     13593\n",
      "   macro avg       0.70      0.86      0.74     13593\n",
      "weighted avg       0.92      0.85      0.87     13593\n",
      "\n"
     ]
    }
   ],
   "source": [
    "print(\"Classification Report:\\n\\n\", classification_report(y_test, y_pred))"
   ]
  },
  {
   "cell_type": "code",
   "execution_count": 67,
   "id": "88cc31b0",
   "metadata": {
    "execution": {
     "iopub.execute_input": "2022-07-19T09:52:30.268284Z",
     "iopub.status.busy": "2022-07-19T09:52:30.267626Z",
     "iopub.status.idle": "2022-07-19T09:52:30.482653Z",
     "shell.execute_reply": "2022-07-19T09:52:30.482017Z"
    },
    "papermill": {
     "duration": 0.260827,
     "end_time": "2022-07-19T09:52:30.484952",
     "exception": false,
     "start_time": "2022-07-19T09:52:30.224125",
     "status": "completed"
    },
    "tags": []
   },
   "outputs": [
    {
     "data": {
      "image/png": "[encoded data removed]",
      "text/plain": [
       "<Figure size 432x288 with 1 Axes>"
      ]
     },
     "metadata": {
      "needs_background": "light"
     },
     "output_type": "display_data"
    }
   ],
   "source": [
    "plot_roc_curve(lr_model, X_test, y_test)\n",
    "plt.title('ROC-AUC\\n')\n",
    "plt.show()"
   ]
  },
  {
   "cell_type": "markdown",
   "id": "ba56f158",
   "metadata": {
    "papermill": {
     "duration": 0.048216,
     "end_time": "2022-07-19T09:52:30.576226",
     "exception": false,
     "start_time": "2022-07-19T09:52:30.528010",
     "status": "completed"
    },
    "tags": []
   },
   "source": [
    "## 8. What general recommendations can be offered for a successful marketing company in the future?\n",
    "\n",
    "From the EDA and model selection part we can clearly identify duration playing an important attribute in defining the outcome of our dataset. It is absolute that the more the leads are interested in starting a deposit will have higher number of calls and the call duration will be higher than the average. We have also figured out that job and education also acts as a crucial deciding factor and influences the outcome alot.\n",
    "\n",
    "Here are the few recommendations for the bank than can help improve the deposit rate\n",
    "\n",
    "Classify job roles based on corporate tiers and approach all tier 1 employees within few days after the campaign commences\n",
    "\n",
    "Listen to the leads and extract more information to deliver the best deposit plan, which can increase the duration of calls and that can lead to a deposit\n",
    "\n",
    "Approaching the leads during the start of new bank period(May-July) will be a good choice as many have shown positive results from data history\n",
    "\n",
    "Tune the campaign according to the national econometrics, don't chanelize the expenses on campaign when the national economy is performing poor"
   ]
  },
  {
   "cell_type": "code",
   "execution_count": null,
   "id": "ba7b8a08",
   "metadata": {
    "papermill": {
     "duration": 0.042646,
     "end_time": "2022-07-19T09:52:30.663808",
     "exception": false,
     "start_time": "2022-07-19T09:52:30.621162",
     "status": "completed"
    },
    "tags": []
   },
   "outputs": [],
   "source": []
  }
 ],
 "metadata": {
  "kernelspec": {
   "display_name": "Python 3",
   "language": "python",
   "name": "python3"
  },
  "language_info": {
   "codemirror_mode": {
    "name": "ipython",
    "version": 3
   },
   "file_extension": ".py",
   "mimetype": "text/x-python",
   "name": "python",
   "nbconvert_exporter": "python",
   "pygments_lexer": "ipython3",
   "version": "3.7.12"
  },
  "papermill": {
   "default_parameters": {},
   "duration": 67.491444,
   "end_time": "2022-07-19T09:52:31.527561",
   "environment_variables": {},
   "exception": null,
   "input_path": "__notebook__.ipynb",
   "output_path": "__notebook__.ipynb",
   "parameters": {},
   "start_time": "2022-07-19T09:51:24.036117",
   "version": "2.3.4"
  }
 },
 "nbformat": 4,
 "nbformat_minor": 5
}
